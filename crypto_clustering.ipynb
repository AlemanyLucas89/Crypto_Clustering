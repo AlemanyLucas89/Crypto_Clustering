{
 "cells": [
  {
   "cell_type": "markdown",
   "source": [
    "# Clustering Crypto"
   ],
   "metadata": {}
  },
  {
   "cell_type": "code",
   "execution_count": 129,
   "source": [
    "# Initial imports\r\n",
    "import requests\r\n",
    "import pandas as pd\r\n",
    "import matplotlib.pyplot as plt\r\n",
    "import hvplot.pandas\r\n",
    "import plotly.express as px\r\n",
    "from sklearn.preprocessing import StandardScaler, MinMaxScaler\r\n",
    "from sklearn.decomposition import PCA\r\n",
    "from sklearn.cluster import KMeans\r\n",
    "from urllib.request import Request, urlopen\r\n",
    "import json\r\n",
    "from pathlib import Path"
   ],
   "outputs": [],
   "metadata": {}
  },
  {
   "cell_type": "markdown",
   "source": [
    "### Fetching Cryptocurrency Data"
   ],
   "metadata": {}
  },
  {
   "cell_type": "code",
   "execution_count": 130,
   "source": [
    "# Use the following endpoint to fetch json data\r\n",
    "url = \"https://min-api.cryptocompare.com/data/all/coinlist\""
   ],
   "outputs": [],
   "metadata": {}
  },
  {
   "cell_type": "code",
   "execution_count": 131,
   "source": [
    "json_request = Request(url)\r\n",
    "json_response = urlopen(json_request)\r\n",
    "data = json_response.read()\r\n",
    "json_data = json.loads(data)"
   ],
   "outputs": [],
   "metadata": {}
  },
  {
   "cell_type": "code",
   "execution_count": 132,
   "source": [
    "# Create a DataFrame \r\n",
    "\r\n",
    "crypto_df = pd.DataFrame(json_data['Data']).T\r\n",
    "crypto_df.head()"
   ],
   "outputs": [
    {
     "output_type": "execute_result",
     "data": {
      "text/plain": [
       "         Id                  Url                         ImageUrl  \\\n",
       "42     4321   /coins/42/overview           /media/35650717/42.jpg   \n",
       "300  749869  /coins/300/overview          /media/27010595/300.png   \n",
       "365   33639  /coins/365/overview            /media/352070/365.png   \n",
       "404   21227  /coins/404/overview  /media/35650851/404-300x300.jpg   \n",
       "433  926547  /coins/433/overview          /media/34836095/433.png   \n",
       "\n",
       "    ContentCreatedOn Name Symbol   CoinName         FullName  \\\n",
       "42        1427211129   42     42    42 Coin     42 Coin (42)   \n",
       "300       1517935016  300    300  300 token  300 token (300)   \n",
       "365       1480032918  365    365    365Coin    365Coin (365)   \n",
       "404       1466100361  404    404    404Coin    404Coin (404)   \n",
       "433       1541597321  433    433  433 Token  433 Token (433)   \n",
       "\n",
       "                                           Description AssetTokenStatus  ...  \\\n",
       "42   Everything about 42 coin is 42 - apart from th...              N/A  ...   \n",
       "300  300 token is an ERC20 token. This Token was cr...              N/A  ...   \n",
       "365  365Coin is a Proof of Work and Proof of Stake ...              N/A  ...   \n",
       "404  404 is a PoW/PoS hybrid cryptocurrency that al...              N/A  ...   \n",
       "433  433 Token is a decentralised soccer platform t...         Finished  ...   \n",
       "\n",
       "    AssetLaunchDate MaxSupply MktCapPenalty IsUsedInDefi IsUsedInNft  \\\n",
       "42       0000-00-00         0             0            0           0   \n",
       "300      2017-07-01       300             0            0           0   \n",
       "365      0000-00-00         0             0            0           0   \n",
       "404      0000-00-00         0             0            0           0   \n",
       "433             NaN       NaN           NaN          NaN         NaN   \n",
       "\n",
       "    PlatformType BuiltOn                        SmartContractAddress  \\\n",
       "42           NaN     NaN                                         NaN   \n",
       "300        token     ETH  0xaec98a708810414878c3bcdf46aad31ded4a4557   \n",
       "365          NaN     NaN                                         NaN   \n",
       "404          NaN     NaN                                         NaN   \n",
       "433          NaN     NaN                                         NaN   \n",
       "\n",
       "    DecimalPoints Difficulty  \n",
       "42            NaN        NaN  \n",
       "300            18        NaN  \n",
       "365           NaN        NaN  \n",
       "404           NaN        NaN  \n",
       "433           NaN        NaN  \n",
       "\n",
       "[5 rows x 32 columns]"
      ],
      "text/html": [
       "<div>\n",
       "<style scoped>\n",
       "    .dataframe tbody tr th:only-of-type {\n",
       "        vertical-align: middle;\n",
       "    }\n",
       "\n",
       "    .dataframe tbody tr th {\n",
       "        vertical-align: top;\n",
       "    }\n",
       "\n",
       "    .dataframe thead th {\n",
       "        text-align: right;\n",
       "    }\n",
       "</style>\n",
       "<table border=\"1\" class=\"dataframe\">\n",
       "  <thead>\n",
       "    <tr style=\"text-align: right;\">\n",
       "      <th></th>\n",
       "      <th>Id</th>\n",
       "      <th>Url</th>\n",
       "      <th>ImageUrl</th>\n",
       "      <th>ContentCreatedOn</th>\n",
       "      <th>Name</th>\n",
       "      <th>Symbol</th>\n",
       "      <th>CoinName</th>\n",
       "      <th>FullName</th>\n",
       "      <th>Description</th>\n",
       "      <th>AssetTokenStatus</th>\n",
       "      <th>...</th>\n",
       "      <th>AssetLaunchDate</th>\n",
       "      <th>MaxSupply</th>\n",
       "      <th>MktCapPenalty</th>\n",
       "      <th>IsUsedInDefi</th>\n",
       "      <th>IsUsedInNft</th>\n",
       "      <th>PlatformType</th>\n",
       "      <th>BuiltOn</th>\n",
       "      <th>SmartContractAddress</th>\n",
       "      <th>DecimalPoints</th>\n",
       "      <th>Difficulty</th>\n",
       "    </tr>\n",
       "  </thead>\n",
       "  <tbody>\n",
       "    <tr>\n",
       "      <th>42</th>\n",
       "      <td>4321</td>\n",
       "      <td>/coins/42/overview</td>\n",
       "      <td>/media/35650717/42.jpg</td>\n",
       "      <td>1427211129</td>\n",
       "      <td>42</td>\n",
       "      <td>42</td>\n",
       "      <td>42 Coin</td>\n",
       "      <td>42 Coin (42)</td>\n",
       "      <td>Everything about 42 coin is 42 - apart from th...</td>\n",
       "      <td>N/A</td>\n",
       "      <td>...</td>\n",
       "      <td>0000-00-00</td>\n",
       "      <td>0</td>\n",
       "      <td>0</td>\n",
       "      <td>0</td>\n",
       "      <td>0</td>\n",
       "      <td>NaN</td>\n",
       "      <td>NaN</td>\n",
       "      <td>NaN</td>\n",
       "      <td>NaN</td>\n",
       "      <td>NaN</td>\n",
       "    </tr>\n",
       "    <tr>\n",
       "      <th>300</th>\n",
       "      <td>749869</td>\n",
       "      <td>/coins/300/overview</td>\n",
       "      <td>/media/27010595/300.png</td>\n",
       "      <td>1517935016</td>\n",
       "      <td>300</td>\n",
       "      <td>300</td>\n",
       "      <td>300 token</td>\n",
       "      <td>300 token (300)</td>\n",
       "      <td>300 token is an ERC20 token. This Token was cr...</td>\n",
       "      <td>N/A</td>\n",
       "      <td>...</td>\n",
       "      <td>2017-07-01</td>\n",
       "      <td>300</td>\n",
       "      <td>0</td>\n",
       "      <td>0</td>\n",
       "      <td>0</td>\n",
       "      <td>token</td>\n",
       "      <td>ETH</td>\n",
       "      <td>0xaec98a708810414878c3bcdf46aad31ded4a4557</td>\n",
       "      <td>18</td>\n",
       "      <td>NaN</td>\n",
       "    </tr>\n",
       "    <tr>\n",
       "      <th>365</th>\n",
       "      <td>33639</td>\n",
       "      <td>/coins/365/overview</td>\n",
       "      <td>/media/352070/365.png</td>\n",
       "      <td>1480032918</td>\n",
       "      <td>365</td>\n",
       "      <td>365</td>\n",
       "      <td>365Coin</td>\n",
       "      <td>365Coin (365)</td>\n",
       "      <td>365Coin is a Proof of Work and Proof of Stake ...</td>\n",
       "      <td>N/A</td>\n",
       "      <td>...</td>\n",
       "      <td>0000-00-00</td>\n",
       "      <td>0</td>\n",
       "      <td>0</td>\n",
       "      <td>0</td>\n",
       "      <td>0</td>\n",
       "      <td>NaN</td>\n",
       "      <td>NaN</td>\n",
       "      <td>NaN</td>\n",
       "      <td>NaN</td>\n",
       "      <td>NaN</td>\n",
       "    </tr>\n",
       "    <tr>\n",
       "      <th>404</th>\n",
       "      <td>21227</td>\n",
       "      <td>/coins/404/overview</td>\n",
       "      <td>/media/35650851/404-300x300.jpg</td>\n",
       "      <td>1466100361</td>\n",
       "      <td>404</td>\n",
       "      <td>404</td>\n",
       "      <td>404Coin</td>\n",
       "      <td>404Coin (404)</td>\n",
       "      <td>404 is a PoW/PoS hybrid cryptocurrency that al...</td>\n",
       "      <td>N/A</td>\n",
       "      <td>...</td>\n",
       "      <td>0000-00-00</td>\n",
       "      <td>0</td>\n",
       "      <td>0</td>\n",
       "      <td>0</td>\n",
       "      <td>0</td>\n",
       "      <td>NaN</td>\n",
       "      <td>NaN</td>\n",
       "      <td>NaN</td>\n",
       "      <td>NaN</td>\n",
       "      <td>NaN</td>\n",
       "    </tr>\n",
       "    <tr>\n",
       "      <th>433</th>\n",
       "      <td>926547</td>\n",
       "      <td>/coins/433/overview</td>\n",
       "      <td>/media/34836095/433.png</td>\n",
       "      <td>1541597321</td>\n",
       "      <td>433</td>\n",
       "      <td>433</td>\n",
       "      <td>433 Token</td>\n",
       "      <td>433 Token (433)</td>\n",
       "      <td>433 Token is a decentralised soccer platform t...</td>\n",
       "      <td>Finished</td>\n",
       "      <td>...</td>\n",
       "      <td>NaN</td>\n",
       "      <td>NaN</td>\n",
       "      <td>NaN</td>\n",
       "      <td>NaN</td>\n",
       "      <td>NaN</td>\n",
       "      <td>NaN</td>\n",
       "      <td>NaN</td>\n",
       "      <td>NaN</td>\n",
       "      <td>NaN</td>\n",
       "      <td>NaN</td>\n",
       "    </tr>\n",
       "  </tbody>\n",
       "</table>\n",
       "<p>5 rows × 32 columns</p>\n",
       "</div>"
      ]
     },
     "metadata": {},
     "execution_count": 132
    }
   ],
   "metadata": {}
  },
  {
   "cell_type": "markdown",
   "source": [
    "### Data Preprocessing"
   ],
   "metadata": {}
  },
  {
   "cell_type": "code",
   "execution_count": 133,
   "source": [
    "# Keep only necessary columns:\r\n",
    "# 'CoinName','Algorithm','IsTrading','ProofType','TotalCoinsMined','TotalCoinSupply'\r\n",
    "\r\n",
    "Headers = list(crypto_df.columns)\r\n",
    "\r\n"
   ],
   "outputs": [],
   "metadata": {}
  },
  {
   "cell_type": "code",
   "execution_count": 134,
   "source": [
    "new_columns = [ 'CoinName','Algorithm','IsTrading','ProofType','TotalCoinsMined','MaxSupply']"
   ],
   "outputs": [],
   "metadata": {}
  },
  {
   "cell_type": "code",
   "execution_count": 135,
   "source": [
    "crypto_df =crypto_df[new_columns]\r\n",
    "crypto_df"
   ],
   "outputs": [
    {
     "output_type": "execute_result",
     "data": {
      "text/plain": [
       "                       CoinName Algorithm IsTrading ProofType TotalCoinsMined  \\\n",
       "42                      42 Coin    Scrypt      True   PoW/PoS               0   \n",
       "300                   300 token       N/A      True       N/A             300   \n",
       "365                     365Coin       X11      True   PoW/PoS               0   \n",
       "404                     404Coin    Scrypt      True   PoW/PoS               0   \n",
       "433                   433 Token       N/A     False       N/A             NaN   \n",
       "...                         ...       ...       ...       ...             ...   \n",
       "ARK                         ARK      DPoS      True      DPoS     158681200.0   \n",
       "ACT                      Achain      DPoS      True      DPoS      1000000000   \n",
       "BLOCKSTAMP           BlockStamp   SHA-256      True       PoW             NaN   \n",
       "BST               Beshare Token       N/A      True       N/A     10000000000   \n",
       "MINUTE      MINUTE Vault (NFTX)       N/A     False       N/A              15   \n",
       "\n",
       "           MaxSupply  \n",
       "42                 0  \n",
       "300              300  \n",
       "365                0  \n",
       "404                0  \n",
       "433              NaN  \n",
       "...              ...  \n",
       "ARK               -1  \n",
       "ACT                0  \n",
       "BLOCKSTAMP       NaN  \n",
       "BST               -1  \n",
       "MINUTE            -1  \n",
       "\n",
       "[6810 rows x 6 columns]"
      ],
      "text/html": [
       "<div>\n",
       "<style scoped>\n",
       "    .dataframe tbody tr th:only-of-type {\n",
       "        vertical-align: middle;\n",
       "    }\n",
       "\n",
       "    .dataframe tbody tr th {\n",
       "        vertical-align: top;\n",
       "    }\n",
       "\n",
       "    .dataframe thead th {\n",
       "        text-align: right;\n",
       "    }\n",
       "</style>\n",
       "<table border=\"1\" class=\"dataframe\">\n",
       "  <thead>\n",
       "    <tr style=\"text-align: right;\">\n",
       "      <th></th>\n",
       "      <th>CoinName</th>\n",
       "      <th>Algorithm</th>\n",
       "      <th>IsTrading</th>\n",
       "      <th>ProofType</th>\n",
       "      <th>TotalCoinsMined</th>\n",
       "      <th>MaxSupply</th>\n",
       "    </tr>\n",
       "  </thead>\n",
       "  <tbody>\n",
       "    <tr>\n",
       "      <th>42</th>\n",
       "      <td>42 Coin</td>\n",
       "      <td>Scrypt</td>\n",
       "      <td>True</td>\n",
       "      <td>PoW/PoS</td>\n",
       "      <td>0</td>\n",
       "      <td>0</td>\n",
       "    </tr>\n",
       "    <tr>\n",
       "      <th>300</th>\n",
       "      <td>300 token</td>\n",
       "      <td>N/A</td>\n",
       "      <td>True</td>\n",
       "      <td>N/A</td>\n",
       "      <td>300</td>\n",
       "      <td>300</td>\n",
       "    </tr>\n",
       "    <tr>\n",
       "      <th>365</th>\n",
       "      <td>365Coin</td>\n",
       "      <td>X11</td>\n",
       "      <td>True</td>\n",
       "      <td>PoW/PoS</td>\n",
       "      <td>0</td>\n",
       "      <td>0</td>\n",
       "    </tr>\n",
       "    <tr>\n",
       "      <th>404</th>\n",
       "      <td>404Coin</td>\n",
       "      <td>Scrypt</td>\n",
       "      <td>True</td>\n",
       "      <td>PoW/PoS</td>\n",
       "      <td>0</td>\n",
       "      <td>0</td>\n",
       "    </tr>\n",
       "    <tr>\n",
       "      <th>433</th>\n",
       "      <td>433 Token</td>\n",
       "      <td>N/A</td>\n",
       "      <td>False</td>\n",
       "      <td>N/A</td>\n",
       "      <td>NaN</td>\n",
       "      <td>NaN</td>\n",
       "    </tr>\n",
       "    <tr>\n",
       "      <th>...</th>\n",
       "      <td>...</td>\n",
       "      <td>...</td>\n",
       "      <td>...</td>\n",
       "      <td>...</td>\n",
       "      <td>...</td>\n",
       "      <td>...</td>\n",
       "    </tr>\n",
       "    <tr>\n",
       "      <th>ARK</th>\n",
       "      <td>ARK</td>\n",
       "      <td>DPoS</td>\n",
       "      <td>True</td>\n",
       "      <td>DPoS</td>\n",
       "      <td>158681200.0</td>\n",
       "      <td>-1</td>\n",
       "    </tr>\n",
       "    <tr>\n",
       "      <th>ACT</th>\n",
       "      <td>Achain</td>\n",
       "      <td>DPoS</td>\n",
       "      <td>True</td>\n",
       "      <td>DPoS</td>\n",
       "      <td>1000000000</td>\n",
       "      <td>0</td>\n",
       "    </tr>\n",
       "    <tr>\n",
       "      <th>BLOCKSTAMP</th>\n",
       "      <td>BlockStamp</td>\n",
       "      <td>SHA-256</td>\n",
       "      <td>True</td>\n",
       "      <td>PoW</td>\n",
       "      <td>NaN</td>\n",
       "      <td>NaN</td>\n",
       "    </tr>\n",
       "    <tr>\n",
       "      <th>BST</th>\n",
       "      <td>Beshare Token</td>\n",
       "      <td>N/A</td>\n",
       "      <td>True</td>\n",
       "      <td>N/A</td>\n",
       "      <td>10000000000</td>\n",
       "      <td>-1</td>\n",
       "    </tr>\n",
       "    <tr>\n",
       "      <th>MINUTE</th>\n",
       "      <td>MINUTE Vault (NFTX)</td>\n",
       "      <td>N/A</td>\n",
       "      <td>False</td>\n",
       "      <td>N/A</td>\n",
       "      <td>15</td>\n",
       "      <td>-1</td>\n",
       "    </tr>\n",
       "  </tbody>\n",
       "</table>\n",
       "<p>6810 rows × 6 columns</p>\n",
       "</div>"
      ]
     },
     "metadata": {},
     "execution_count": 135
    }
   ],
   "metadata": {}
  },
  {
   "cell_type": "code",
   "execution_count": 136,
   "source": [
    "# Keep only cryptocurrencies that are trading\r\n",
    "crypto_df = crypto_df.loc[crypto_df['IsTrading'] == True]\r\n",
    "crypto_df.head()"
   ],
   "outputs": [
    {
     "output_type": "execute_result",
     "data": {
      "text/plain": [
       "      CoinName Algorithm IsTrading ProofType TotalCoinsMined MaxSupply\n",
       "42     42 Coin    Scrypt      True   PoW/PoS               0         0\n",
       "300  300 token       N/A      True       N/A             300       300\n",
       "365    365Coin       X11      True   PoW/PoS               0         0\n",
       "404    404Coin    Scrypt      True   PoW/PoS               0         0\n",
       "611  SixEleven   SHA-256      True       PoW               0         0"
      ],
      "text/html": [
       "<div>\n",
       "<style scoped>\n",
       "    .dataframe tbody tr th:only-of-type {\n",
       "        vertical-align: middle;\n",
       "    }\n",
       "\n",
       "    .dataframe tbody tr th {\n",
       "        vertical-align: top;\n",
       "    }\n",
       "\n",
       "    .dataframe thead th {\n",
       "        text-align: right;\n",
       "    }\n",
       "</style>\n",
       "<table border=\"1\" class=\"dataframe\">\n",
       "  <thead>\n",
       "    <tr style=\"text-align: right;\">\n",
       "      <th></th>\n",
       "      <th>CoinName</th>\n",
       "      <th>Algorithm</th>\n",
       "      <th>IsTrading</th>\n",
       "      <th>ProofType</th>\n",
       "      <th>TotalCoinsMined</th>\n",
       "      <th>MaxSupply</th>\n",
       "    </tr>\n",
       "  </thead>\n",
       "  <tbody>\n",
       "    <tr>\n",
       "      <th>42</th>\n",
       "      <td>42 Coin</td>\n",
       "      <td>Scrypt</td>\n",
       "      <td>True</td>\n",
       "      <td>PoW/PoS</td>\n",
       "      <td>0</td>\n",
       "      <td>0</td>\n",
       "    </tr>\n",
       "    <tr>\n",
       "      <th>300</th>\n",
       "      <td>300 token</td>\n",
       "      <td>N/A</td>\n",
       "      <td>True</td>\n",
       "      <td>N/A</td>\n",
       "      <td>300</td>\n",
       "      <td>300</td>\n",
       "    </tr>\n",
       "    <tr>\n",
       "      <th>365</th>\n",
       "      <td>365Coin</td>\n",
       "      <td>X11</td>\n",
       "      <td>True</td>\n",
       "      <td>PoW/PoS</td>\n",
       "      <td>0</td>\n",
       "      <td>0</td>\n",
       "    </tr>\n",
       "    <tr>\n",
       "      <th>404</th>\n",
       "      <td>404Coin</td>\n",
       "      <td>Scrypt</td>\n",
       "      <td>True</td>\n",
       "      <td>PoW/PoS</td>\n",
       "      <td>0</td>\n",
       "      <td>0</td>\n",
       "    </tr>\n",
       "    <tr>\n",
       "      <th>611</th>\n",
       "      <td>SixEleven</td>\n",
       "      <td>SHA-256</td>\n",
       "      <td>True</td>\n",
       "      <td>PoW</td>\n",
       "      <td>0</td>\n",
       "      <td>0</td>\n",
       "    </tr>\n",
       "  </tbody>\n",
       "</table>\n",
       "</div>"
      ]
     },
     "metadata": {},
     "execution_count": 136
    }
   ],
   "metadata": {}
  },
  {
   "cell_type": "code",
   "execution_count": 137,
   "source": [
    "# Keep only cryptocurrencies with a working algorithm\r\n",
    "\r\n",
    "crypto_df = crypto_df.loc[crypto_df['Algorithm'] != 'N/A']\r\n",
    "crypto_df.head()"
   ],
   "outputs": [
    {
     "output_type": "execute_result",
     "data": {
      "text/plain": [
       "      CoinName Algorithm IsTrading ProofType TotalCoinsMined MaxSupply\n",
       "42     42 Coin    Scrypt      True   PoW/PoS               0         0\n",
       "365    365Coin       X11      True   PoW/PoS               0         0\n",
       "404    404Coin    Scrypt      True   PoW/PoS               0         0\n",
       "611  SixEleven   SHA-256      True       PoW               0         0\n",
       "808        808   SHA-256      True   PoW/PoS               0         0"
      ],
      "text/html": [
       "<div>\n",
       "<style scoped>\n",
       "    .dataframe tbody tr th:only-of-type {\n",
       "        vertical-align: middle;\n",
       "    }\n",
       "\n",
       "    .dataframe tbody tr th {\n",
       "        vertical-align: top;\n",
       "    }\n",
       "\n",
       "    .dataframe thead th {\n",
       "        text-align: right;\n",
       "    }\n",
       "</style>\n",
       "<table border=\"1\" class=\"dataframe\">\n",
       "  <thead>\n",
       "    <tr style=\"text-align: right;\">\n",
       "      <th></th>\n",
       "      <th>CoinName</th>\n",
       "      <th>Algorithm</th>\n",
       "      <th>IsTrading</th>\n",
       "      <th>ProofType</th>\n",
       "      <th>TotalCoinsMined</th>\n",
       "      <th>MaxSupply</th>\n",
       "    </tr>\n",
       "  </thead>\n",
       "  <tbody>\n",
       "    <tr>\n",
       "      <th>42</th>\n",
       "      <td>42 Coin</td>\n",
       "      <td>Scrypt</td>\n",
       "      <td>True</td>\n",
       "      <td>PoW/PoS</td>\n",
       "      <td>0</td>\n",
       "      <td>0</td>\n",
       "    </tr>\n",
       "    <tr>\n",
       "      <th>365</th>\n",
       "      <td>365Coin</td>\n",
       "      <td>X11</td>\n",
       "      <td>True</td>\n",
       "      <td>PoW/PoS</td>\n",
       "      <td>0</td>\n",
       "      <td>0</td>\n",
       "    </tr>\n",
       "    <tr>\n",
       "      <th>404</th>\n",
       "      <td>404Coin</td>\n",
       "      <td>Scrypt</td>\n",
       "      <td>True</td>\n",
       "      <td>PoW/PoS</td>\n",
       "      <td>0</td>\n",
       "      <td>0</td>\n",
       "    </tr>\n",
       "    <tr>\n",
       "      <th>611</th>\n",
       "      <td>SixEleven</td>\n",
       "      <td>SHA-256</td>\n",
       "      <td>True</td>\n",
       "      <td>PoW</td>\n",
       "      <td>0</td>\n",
       "      <td>0</td>\n",
       "    </tr>\n",
       "    <tr>\n",
       "      <th>808</th>\n",
       "      <td>808</td>\n",
       "      <td>SHA-256</td>\n",
       "      <td>True</td>\n",
       "      <td>PoW/PoS</td>\n",
       "      <td>0</td>\n",
       "      <td>0</td>\n",
       "    </tr>\n",
       "  </tbody>\n",
       "</table>\n",
       "</div>"
      ]
     },
     "metadata": {},
     "execution_count": 137
    }
   ],
   "metadata": {}
  },
  {
   "cell_type": "code",
   "execution_count": 138,
   "source": [
    "# Remove the \"IsTrading\" column\r\n",
    "\r\n",
    "crypto_df = crypto_df.drop(columns= 'IsTrading')\r\n",
    "crypto_df.head()"
   ],
   "outputs": [
    {
     "output_type": "execute_result",
     "data": {
      "text/plain": [
       "      CoinName Algorithm ProofType TotalCoinsMined MaxSupply\n",
       "42     42 Coin    Scrypt   PoW/PoS               0         0\n",
       "365    365Coin       X11   PoW/PoS               0         0\n",
       "404    404Coin    Scrypt   PoW/PoS               0         0\n",
       "611  SixEleven   SHA-256       PoW               0         0\n",
       "808        808   SHA-256   PoW/PoS               0         0"
      ],
      "text/html": [
       "<div>\n",
       "<style scoped>\n",
       "    .dataframe tbody tr th:only-of-type {\n",
       "        vertical-align: middle;\n",
       "    }\n",
       "\n",
       "    .dataframe tbody tr th {\n",
       "        vertical-align: top;\n",
       "    }\n",
       "\n",
       "    .dataframe thead th {\n",
       "        text-align: right;\n",
       "    }\n",
       "</style>\n",
       "<table border=\"1\" class=\"dataframe\">\n",
       "  <thead>\n",
       "    <tr style=\"text-align: right;\">\n",
       "      <th></th>\n",
       "      <th>CoinName</th>\n",
       "      <th>Algorithm</th>\n",
       "      <th>ProofType</th>\n",
       "      <th>TotalCoinsMined</th>\n",
       "      <th>MaxSupply</th>\n",
       "    </tr>\n",
       "  </thead>\n",
       "  <tbody>\n",
       "    <tr>\n",
       "      <th>42</th>\n",
       "      <td>42 Coin</td>\n",
       "      <td>Scrypt</td>\n",
       "      <td>PoW/PoS</td>\n",
       "      <td>0</td>\n",
       "      <td>0</td>\n",
       "    </tr>\n",
       "    <tr>\n",
       "      <th>365</th>\n",
       "      <td>365Coin</td>\n",
       "      <td>X11</td>\n",
       "      <td>PoW/PoS</td>\n",
       "      <td>0</td>\n",
       "      <td>0</td>\n",
       "    </tr>\n",
       "    <tr>\n",
       "      <th>404</th>\n",
       "      <td>404Coin</td>\n",
       "      <td>Scrypt</td>\n",
       "      <td>PoW/PoS</td>\n",
       "      <td>0</td>\n",
       "      <td>0</td>\n",
       "    </tr>\n",
       "    <tr>\n",
       "      <th>611</th>\n",
       "      <td>SixEleven</td>\n",
       "      <td>SHA-256</td>\n",
       "      <td>PoW</td>\n",
       "      <td>0</td>\n",
       "      <td>0</td>\n",
       "    </tr>\n",
       "    <tr>\n",
       "      <th>808</th>\n",
       "      <td>808</td>\n",
       "      <td>SHA-256</td>\n",
       "      <td>PoW/PoS</td>\n",
       "      <td>0</td>\n",
       "      <td>0</td>\n",
       "    </tr>\n",
       "  </tbody>\n",
       "</table>\n",
       "</div>"
      ]
     },
     "metadata": {},
     "execution_count": 138
    }
   ],
   "metadata": {}
  },
  {
   "cell_type": "code",
   "execution_count": 139,
   "source": [
    "# Remove rows with at least 1 null value\r\n",
    "crypto_df = crypto_df.dropna()\r\n",
    "crypto_df.head()"
   ],
   "outputs": [
    {
     "output_type": "execute_result",
     "data": {
      "text/plain": [
       "      CoinName Algorithm ProofType TotalCoinsMined MaxSupply\n",
       "42     42 Coin    Scrypt   PoW/PoS               0         0\n",
       "365    365Coin       X11   PoW/PoS               0         0\n",
       "404    404Coin    Scrypt   PoW/PoS               0         0\n",
       "611  SixEleven   SHA-256       PoW               0         0\n",
       "808        808   SHA-256   PoW/PoS               0         0"
      ],
      "text/html": [
       "<div>\n",
       "<style scoped>\n",
       "    .dataframe tbody tr th:only-of-type {\n",
       "        vertical-align: middle;\n",
       "    }\n",
       "\n",
       "    .dataframe tbody tr th {\n",
       "        vertical-align: top;\n",
       "    }\n",
       "\n",
       "    .dataframe thead th {\n",
       "        text-align: right;\n",
       "    }\n",
       "</style>\n",
       "<table border=\"1\" class=\"dataframe\">\n",
       "  <thead>\n",
       "    <tr style=\"text-align: right;\">\n",
       "      <th></th>\n",
       "      <th>CoinName</th>\n",
       "      <th>Algorithm</th>\n",
       "      <th>ProofType</th>\n",
       "      <th>TotalCoinsMined</th>\n",
       "      <th>MaxSupply</th>\n",
       "    </tr>\n",
       "  </thead>\n",
       "  <tbody>\n",
       "    <tr>\n",
       "      <th>42</th>\n",
       "      <td>42 Coin</td>\n",
       "      <td>Scrypt</td>\n",
       "      <td>PoW/PoS</td>\n",
       "      <td>0</td>\n",
       "      <td>0</td>\n",
       "    </tr>\n",
       "    <tr>\n",
       "      <th>365</th>\n",
       "      <td>365Coin</td>\n",
       "      <td>X11</td>\n",
       "      <td>PoW/PoS</td>\n",
       "      <td>0</td>\n",
       "      <td>0</td>\n",
       "    </tr>\n",
       "    <tr>\n",
       "      <th>404</th>\n",
       "      <td>404Coin</td>\n",
       "      <td>Scrypt</td>\n",
       "      <td>PoW/PoS</td>\n",
       "      <td>0</td>\n",
       "      <td>0</td>\n",
       "    </tr>\n",
       "    <tr>\n",
       "      <th>611</th>\n",
       "      <td>SixEleven</td>\n",
       "      <td>SHA-256</td>\n",
       "      <td>PoW</td>\n",
       "      <td>0</td>\n",
       "      <td>0</td>\n",
       "    </tr>\n",
       "    <tr>\n",
       "      <th>808</th>\n",
       "      <td>808</td>\n",
       "      <td>SHA-256</td>\n",
       "      <td>PoW/PoS</td>\n",
       "      <td>0</td>\n",
       "      <td>0</td>\n",
       "    </tr>\n",
       "  </tbody>\n",
       "</table>\n",
       "</div>"
      ]
     },
     "metadata": {},
     "execution_count": 139
    }
   ],
   "metadata": {}
  },
  {
   "cell_type": "code",
   "execution_count": 140,
   "source": [
    "# Remove rows with cryptocurrencies having no coins mined\r\n",
    "\r\n",
    "crypto_df = crypto_df.loc[crypto_df['TotalCoinsMined'] != 0]\r\n",
    "crypto_df.head()"
   ],
   "outputs": [
    {
     "output_type": "execute_result",
     "data": {
      "text/plain": [
       "            CoinName Algorithm ProofType  TotalCoinsMined MaxSupply\n",
       "NVC         NovaCoin    Scrypt   PoW/PoS    3327130.86882        -1\n",
       "XCP     CounterParty   SHA-256       PoW   2614878.378379        -1\n",
       "NSR         NuShares       PoS       PoS  6161876092.0671         0\n",
       "MONA        MonaCoin    Scrypt       PoW  82413387.471579        -1\n",
       "TRI   Triangles Coin       X13   PoW/PoS    181125.443371         0"
      ],
      "text/html": [
       "<div>\n",
       "<style scoped>\n",
       "    .dataframe tbody tr th:only-of-type {\n",
       "        vertical-align: middle;\n",
       "    }\n",
       "\n",
       "    .dataframe tbody tr th {\n",
       "        vertical-align: top;\n",
       "    }\n",
       "\n",
       "    .dataframe thead th {\n",
       "        text-align: right;\n",
       "    }\n",
       "</style>\n",
       "<table border=\"1\" class=\"dataframe\">\n",
       "  <thead>\n",
       "    <tr style=\"text-align: right;\">\n",
       "      <th></th>\n",
       "      <th>CoinName</th>\n",
       "      <th>Algorithm</th>\n",
       "      <th>ProofType</th>\n",
       "      <th>TotalCoinsMined</th>\n",
       "      <th>MaxSupply</th>\n",
       "    </tr>\n",
       "  </thead>\n",
       "  <tbody>\n",
       "    <tr>\n",
       "      <th>NVC</th>\n",
       "      <td>NovaCoin</td>\n",
       "      <td>Scrypt</td>\n",
       "      <td>PoW/PoS</td>\n",
       "      <td>3327130.86882</td>\n",
       "      <td>-1</td>\n",
       "    </tr>\n",
       "    <tr>\n",
       "      <th>XCP</th>\n",
       "      <td>CounterParty</td>\n",
       "      <td>SHA-256</td>\n",
       "      <td>PoW</td>\n",
       "      <td>2614878.378379</td>\n",
       "      <td>-1</td>\n",
       "    </tr>\n",
       "    <tr>\n",
       "      <th>NSR</th>\n",
       "      <td>NuShares</td>\n",
       "      <td>PoS</td>\n",
       "      <td>PoS</td>\n",
       "      <td>6161876092.0671</td>\n",
       "      <td>0</td>\n",
       "    </tr>\n",
       "    <tr>\n",
       "      <th>MONA</th>\n",
       "      <td>MonaCoin</td>\n",
       "      <td>Scrypt</td>\n",
       "      <td>PoW</td>\n",
       "      <td>82413387.471579</td>\n",
       "      <td>-1</td>\n",
       "    </tr>\n",
       "    <tr>\n",
       "      <th>TRI</th>\n",
       "      <td>Triangles Coin</td>\n",
       "      <td>X13</td>\n",
       "      <td>PoW/PoS</td>\n",
       "      <td>181125.443371</td>\n",
       "      <td>0</td>\n",
       "    </tr>\n",
       "  </tbody>\n",
       "</table>\n",
       "</div>"
      ]
     },
     "metadata": {},
     "execution_count": 140
    }
   ],
   "metadata": {}
  },
  {
   "cell_type": "code",
   "execution_count": 141,
   "source": [
    "# Drop rows where there are 'N/A' text values\r\n",
    "crypto_df = crypto_df.loc[crypto_df['MaxSupply'] != 'N/A']\r\n",
    "crypto_df = crypto_df.loc[crypto_df['ProofType'] != 'N/A']\r\n",
    "crypto_df.head()"
   ],
   "outputs": [
    {
     "output_type": "execute_result",
     "data": {
      "text/plain": [
       "            CoinName Algorithm ProofType  TotalCoinsMined MaxSupply\n",
       "NVC         NovaCoin    Scrypt   PoW/PoS    3327130.86882        -1\n",
       "XCP     CounterParty   SHA-256       PoW   2614878.378379        -1\n",
       "NSR         NuShares       PoS       PoS  6161876092.0671         0\n",
       "MONA        MonaCoin    Scrypt       PoW  82413387.471579        -1\n",
       "TRI   Triangles Coin       X13   PoW/PoS    181125.443371         0"
      ],
      "text/html": [
       "<div>\n",
       "<style scoped>\n",
       "    .dataframe tbody tr th:only-of-type {\n",
       "        vertical-align: middle;\n",
       "    }\n",
       "\n",
       "    .dataframe tbody tr th {\n",
       "        vertical-align: top;\n",
       "    }\n",
       "\n",
       "    .dataframe thead th {\n",
       "        text-align: right;\n",
       "    }\n",
       "</style>\n",
       "<table border=\"1\" class=\"dataframe\">\n",
       "  <thead>\n",
       "    <tr style=\"text-align: right;\">\n",
       "      <th></th>\n",
       "      <th>CoinName</th>\n",
       "      <th>Algorithm</th>\n",
       "      <th>ProofType</th>\n",
       "      <th>TotalCoinsMined</th>\n",
       "      <th>MaxSupply</th>\n",
       "    </tr>\n",
       "  </thead>\n",
       "  <tbody>\n",
       "    <tr>\n",
       "      <th>NVC</th>\n",
       "      <td>NovaCoin</td>\n",
       "      <td>Scrypt</td>\n",
       "      <td>PoW/PoS</td>\n",
       "      <td>3327130.86882</td>\n",
       "      <td>-1</td>\n",
       "    </tr>\n",
       "    <tr>\n",
       "      <th>XCP</th>\n",
       "      <td>CounterParty</td>\n",
       "      <td>SHA-256</td>\n",
       "      <td>PoW</td>\n",
       "      <td>2614878.378379</td>\n",
       "      <td>-1</td>\n",
       "    </tr>\n",
       "    <tr>\n",
       "      <th>NSR</th>\n",
       "      <td>NuShares</td>\n",
       "      <td>PoS</td>\n",
       "      <td>PoS</td>\n",
       "      <td>6161876092.0671</td>\n",
       "      <td>0</td>\n",
       "    </tr>\n",
       "    <tr>\n",
       "      <th>MONA</th>\n",
       "      <td>MonaCoin</td>\n",
       "      <td>Scrypt</td>\n",
       "      <td>PoW</td>\n",
       "      <td>82413387.471579</td>\n",
       "      <td>-1</td>\n",
       "    </tr>\n",
       "    <tr>\n",
       "      <th>TRI</th>\n",
       "      <td>Triangles Coin</td>\n",
       "      <td>X13</td>\n",
       "      <td>PoW/PoS</td>\n",
       "      <td>181125.443371</td>\n",
       "      <td>0</td>\n",
       "    </tr>\n",
       "  </tbody>\n",
       "</table>\n",
       "</div>"
      ]
     },
     "metadata": {},
     "execution_count": 141
    }
   ],
   "metadata": {}
  },
  {
   "cell_type": "code",
   "execution_count": 142,
   "source": [
    "# Store the 'CoinName'column in its own DataFrame prior to dropping it from crypto_df\r\n",
    "\r\n",
    "CoinName = crypto_df"
   ],
   "outputs": [],
   "metadata": {}
  },
  {
   "cell_type": "code",
   "execution_count": 143,
   "source": [
    "# Drop the 'CoinName' column since it's not going to be used on the clustering algorithm\r\n",
    "\r\n",
    "crypto_df = crypto_df.drop(columns= 'CoinName')"
   ],
   "outputs": [],
   "metadata": {}
  },
  {
   "cell_type": "code",
   "execution_count": 144,
   "source": [
    "# Create dummy variables for text features\r\n",
    "\r\n",
    "crypto_encoded = pd.get_dummies(data=crypto_df, columns=[ 'Algorithm', 'ProofType'])"
   ],
   "outputs": [],
   "metadata": {}
  },
  {
   "cell_type": "code",
   "execution_count": 145,
   "source": [
    "# Standardize data\r\n",
    "crypto_df_std = StandardScaler().fit_transform(crypto_encoded)\r\n",
    "crypto_df_std"
   ],
   "outputs": [
    {
     "output_type": "execute_result",
     "data": {
      "text/plain": [
       "array([[-0.17245605, -0.13285415, -0.09016696, ..., -0.09016696,\n",
       "        -0.09016696, -0.09016696],\n",
       "       [-0.17246168, -0.13285415, -0.09016696, ..., -0.09016696,\n",
       "        -0.09016696, -0.09016696],\n",
       "       [-0.12383558, -0.13285415, -0.09016696, ..., -0.09016696,\n",
       "        -0.09016696, -0.09016696],\n",
       "       ...,\n",
       "       [-0.17115491, -0.13285415, -0.09016696, ..., -0.09016696,\n",
       "        -0.09016696, -0.09016696],\n",
       "       [-0.17122957, -0.13285415, -0.09016696, ..., -0.09016696,\n",
       "        -0.09016696, -0.09016696],\n",
       "       [-0.16458753, -0.13285415, -0.09016696, ..., -0.09016696,\n",
       "        -0.09016696, -0.09016696]])"
      ]
     },
     "metadata": {},
     "execution_count": 145
    }
   ],
   "metadata": {}
  },
  {
   "cell_type": "markdown",
   "source": [
    "### Reducing Dimensions Using PCA"
   ],
   "metadata": {}
  },
  {
   "cell_type": "code",
   "execution_count": 146,
   "source": [
    "# Use PCA to reduce dimensions to 3 principal components\r\n",
    "pca = PCA(n_components=3)\r\n",
    "crypto_pca = pca.fit_transform(crypto_df_std)"
   ],
   "outputs": [],
   "metadata": {}
  },
  {
   "cell_type": "code",
   "execution_count": 147,
   "source": [
    "# Create a DataFrame with the principal components data\r\n",
    "pca_df = pd.DataFrame(\r\n",
    "    data=crypto_pca, columns=[\"PC 1\", \"PC 2\", \"PC 3\"], index=crypto_df.index)\r\n",
    "pca_df.head()"
   ],
   "outputs": [
    {
     "output_type": "execute_result",
     "data": {
      "text/plain": [
       "          PC 1      PC 2      PC 3\n",
       "NVC  -1.215541 -0.638685 -0.255735\n",
       "XCP   1.719250 -0.260389 -0.020896\n",
       "NSR  -1.475145  0.157801 -0.547334\n",
       "MONA  0.714617 -0.740452 -0.193213\n",
       "TRI  -1.958795 -0.486181 -0.287454"
      ],
      "text/html": [
       "<div>\n",
       "<style scoped>\n",
       "    .dataframe tbody tr th:only-of-type {\n",
       "        vertical-align: middle;\n",
       "    }\n",
       "\n",
       "    .dataframe tbody tr th {\n",
       "        vertical-align: top;\n",
       "    }\n",
       "\n",
       "    .dataframe thead th {\n",
       "        text-align: right;\n",
       "    }\n",
       "</style>\n",
       "<table border=\"1\" class=\"dataframe\">\n",
       "  <thead>\n",
       "    <tr style=\"text-align: right;\">\n",
       "      <th></th>\n",
       "      <th>PC 1</th>\n",
       "      <th>PC 2</th>\n",
       "      <th>PC 3</th>\n",
       "    </tr>\n",
       "  </thead>\n",
       "  <tbody>\n",
       "    <tr>\n",
       "      <th>NVC</th>\n",
       "      <td>-1.215541</td>\n",
       "      <td>-0.638685</td>\n",
       "      <td>-0.255735</td>\n",
       "    </tr>\n",
       "    <tr>\n",
       "      <th>XCP</th>\n",
       "      <td>1.719250</td>\n",
       "      <td>-0.260389</td>\n",
       "      <td>-0.020896</td>\n",
       "    </tr>\n",
       "    <tr>\n",
       "      <th>NSR</th>\n",
       "      <td>-1.475145</td>\n",
       "      <td>0.157801</td>\n",
       "      <td>-0.547334</td>\n",
       "    </tr>\n",
       "    <tr>\n",
       "      <th>MONA</th>\n",
       "      <td>0.714617</td>\n",
       "      <td>-0.740452</td>\n",
       "      <td>-0.193213</td>\n",
       "    </tr>\n",
       "    <tr>\n",
       "      <th>TRI</th>\n",
       "      <td>-1.958795</td>\n",
       "      <td>-0.486181</td>\n",
       "      <td>-0.287454</td>\n",
       "    </tr>\n",
       "  </tbody>\n",
       "</table>\n",
       "</div>"
      ]
     },
     "metadata": {},
     "execution_count": 147
    }
   ],
   "metadata": {}
  },
  {
   "cell_type": "markdown",
   "source": [
    "### Clustering Crytocurrencies Using K-Means\n",
    "\n",
    "#### Find the Best Value for `k` Using the Elbow Curve"
   ],
   "metadata": {}
  },
  {
   "cell_type": "code",
   "execution_count": 148,
   "source": [
    "inertia = []\r\n",
    "k = list(range(1, 11))\r\n",
    "\r\n",
    "# Calculate the inertia for the range of k values\r\n",
    "\r\n",
    "for i in k:\r\n",
    "    km = KMeans(n_clusters=i, random_state=0)\r\n",
    "    km.fit(pca_df)\r\n",
    "    inertia.append(km.inertia_)\r\n",
    "\r\n",
    "# Create the Elbow Curve using hvPlot\r\n",
    "\r\n",
    "\r\n",
    "elbow_data = {\"k\": k, \"inertia\": inertia}\r\n",
    "df_elbow = pd.DataFrame(elbow_data)\r\n",
    "df_elbow.hvplot.line(x=\"k\", y=\"inertia\", xticks=k, title=\"Elbow Visualization\", xlabel=\"Number of Clusters\", ylabel=\"Inertia\")\r\n"
   ],
   "outputs": [
    {
     "output_type": "stream",
     "name": "stderr",
     "text": [
      "C:\\Users\\Alema\\anaconda3\\lib\\site-packages\\sklearn\\cluster\\_kmeans.py:881: UserWarning: KMeans is known to have a memory leak on Windows with MKL, when there are less chunks than available threads. You can avoid it by setting the environment variable OMP_NUM_THREADS=1.\n",
      "  warnings.warn(\n"
     ]
    },
    {
     "output_type": "display_data",
     "data": {},
     "metadata": {}
    },
    {
     "output_type": "execute_result",
     "data": {
      "application/vnd.holoviews_exec.v0+json": "",
      "text/plain": [
       ":Curve   [k]   (inertia)"
      ],
      "text/html": [
       "<div id='1120'>\n",
       "\n",
       "\n",
       "\n",
       "\n",
       "\n",
       "  <div class=\"bk-root\" id=\"7b42cf6c-1fda-43f8-8a0f-50bd2ac80dc5\" data-root-id=\"1120\"></div>\n",
       "</div>\n",
       "<script type=\"application/javascript\">(function(root) {\n",
       "  function embed_document(root) {\n",
       "    var docs_json = {\"c1aa6965-b8c5-44a6-9488-7a31b0571d83\":{\"defs\":[],\"roots\":{\"references\":[{\"attributes\":{\"callback\":null,\"renderers\":[{\"id\":\"1161\"}],\"tags\":[\"hv_created\"],\"tooltips\":[[\"k\",\"@{k}\"],[\"inertia\",\"@{inertia}\"]]},\"id\":\"1124\",\"type\":\"HoverTool\"},{\"attributes\":{},\"id\":\"1179\",\"type\":\"UnionRenderers\"},{\"attributes\":{\"line_color\":\"#30a2da\",\"line_width\":2,\"x\":{\"field\":\"k\"},\"y\":{\"field\":\"inertia\"}},\"id\":\"1163\",\"type\":\"Line\"},{\"attributes\":{},\"id\":\"1143\",\"type\":\"PanTool\"},{\"attributes\":{\"text\":\"Elbow Visualization\",\"text_color\":\"black\",\"text_font_size\":\"12pt\"},\"id\":\"1126\",\"type\":\"Title\"},{\"attributes\":{},\"id\":\"1130\",\"type\":\"LinearScale\"},{\"attributes\":{\"data\":{\"inertia\":{\"__ndarray__\":\"mq6DkkcbikDBb6emzP+BQP7M+XzOw3dABBzvRQCcaUBCwVRd4M9aQCBgqc+gRFRAp89zxwcCTkAeDaypl/VEQK2pc50OSz5AvqCGla6eN0A=\",\"dtype\":\"float64\",\"order\":\"little\",\"shape\":[10]},\"k\":[1,2,3,4,5,6,7,8,9,10]},\"selected\":{\"id\":\"1156\"},\"selection_policy\":{\"id\":\"1179\"}},\"id\":\"1155\",\"type\":\"ColumnDataSource\"},{\"attributes\":{\"end\":916.5889570208603,\"reset_end\":916.5889570208603,\"reset_start\":-57.55915815636792,\"start\":-57.55915815636792,\"tags\":[[[\"inertia\",\"inertia\",null]]]},\"id\":\"1123\",\"type\":\"Range1d\"},{\"attributes\":{\"ticks\":[1,2,3,4,5,6,7,8,9,10]},\"id\":\"1164\",\"type\":\"FixedTicker\"},{\"attributes\":{\"bottom_units\":\"screen\",\"fill_alpha\":0.5,\"fill_color\":\"lightgrey\",\"left_units\":\"screen\",\"level\":\"overlay\",\"line_alpha\":1.0,\"line_color\":\"black\",\"line_dash\":[4,4],\"line_width\":2,\"right_units\":\"screen\",\"syncable\":false,\"top_units\":\"screen\"},\"id\":\"1147\",\"type\":\"BoxAnnotation\"},{\"attributes\":{\"margin\":[5,5,5,5],\"name\":\"HSpacer01807\",\"sizing_mode\":\"stretch_width\"},\"id\":\"1121\",\"type\":\"Spacer\"},{\"attributes\":{\"children\":[{\"id\":\"1121\"},{\"id\":\"1125\"},{\"id\":\"1191\"}],\"margin\":[0,0,0,0],\"name\":\"Row01803\",\"tags\":[\"embedded\"]},\"id\":\"1120\",\"type\":\"Row\"},{\"attributes\":{},\"id\":\"1166\",\"type\":\"BasicTickFormatter\"},{\"attributes\":{},\"id\":\"1132\",\"type\":\"LinearScale\"},{\"attributes\":{\"below\":[{\"id\":\"1134\"}],\"center\":[{\"id\":\"1137\"},{\"id\":\"1141\"}],\"height\":300,\"left\":[{\"id\":\"1138\"}],\"margin\":[5,5,5,5],\"min_border_bottom\":10,\"min_border_left\":10,\"min_border_right\":10,\"min_border_top\":10,\"renderers\":[{\"id\":\"1161\"}],\"sizing_mode\":\"fixed\",\"title\":{\"id\":\"1126\"},\"toolbar\":{\"id\":\"1148\"},\"width\":700,\"x_range\":{\"id\":\"1122\"},\"x_scale\":{\"id\":\"1130\"},\"y_range\":{\"id\":\"1123\"},\"y_scale\":{\"id\":\"1132\"}},\"id\":\"1125\",\"subtype\":\"Figure\",\"type\":\"Plot\"},{\"attributes\":{},\"id\":\"1171\",\"type\":\"BasicTickFormatter\"},{\"attributes\":{\"axis\":{\"id\":\"1134\"},\"grid_line_color\":null,\"ticker\":null},\"id\":\"1137\",\"type\":\"Grid\"},{\"attributes\":{\"axis_label\":\"Number of Clusters\",\"formatter\":{\"id\":\"1166\"},\"major_label_policy\":{\"id\":\"1167\"},\"ticker\":{\"id\":\"1164\"}},\"id\":\"1134\",\"type\":\"LinearAxis\"},{\"attributes\":{},\"id\":\"1167\",\"type\":\"AllLabels\"},{\"attributes\":{\"axis\":{\"id\":\"1138\"},\"dimension\":1,\"grid_line_color\":null,\"ticker\":null},\"id\":\"1141\",\"type\":\"Grid\"},{\"attributes\":{},\"id\":\"1172\",\"type\":\"AllLabels\"},{\"attributes\":{\"line_alpha\":0.2,\"line_color\":\"#30a2da\",\"line_width\":2,\"x\":{\"field\":\"k\"},\"y\":{\"field\":\"inertia\"}},\"id\":\"1160\",\"type\":\"Line\"},{\"attributes\":{\"axis_label\":\"Inertia\",\"formatter\":{\"id\":\"1171\"},\"major_label_policy\":{\"id\":\"1172\"},\"ticker\":{\"id\":\"1139\"}},\"id\":\"1138\",\"type\":\"LinearAxis\"},{\"attributes\":{},\"id\":\"1139\",\"type\":\"BasicTicker\"},{\"attributes\":{},\"id\":\"1144\",\"type\":\"WheelZoomTool\"},{\"attributes\":{\"end\":10.0,\"reset_end\":10.0,\"reset_start\":1.0,\"start\":1.0,\"tags\":[[[\"k\",\"k\",null]]]},\"id\":\"1122\",\"type\":\"Range1d\"},{\"attributes\":{\"active_multi\":null,\"tools\":[{\"id\":\"1124\"},{\"id\":\"1142\"},{\"id\":\"1143\"},{\"id\":\"1144\"},{\"id\":\"1145\"},{\"id\":\"1146\"}]},\"id\":\"1148\",\"type\":\"Toolbar\"},{\"attributes\":{},\"id\":\"1142\",\"type\":\"SaveTool\"},{\"attributes\":{\"overlay\":{\"id\":\"1147\"}},\"id\":\"1145\",\"type\":\"BoxZoomTool\"},{\"attributes\":{},\"id\":\"1146\",\"type\":\"ResetTool\"},{\"attributes\":{\"line_alpha\":0.1,\"line_color\":\"#30a2da\",\"line_width\":2,\"x\":{\"field\":\"k\"},\"y\":{\"field\":\"inertia\"}},\"id\":\"1159\",\"type\":\"Line\"},{\"attributes\":{\"line_color\":\"#30a2da\",\"line_width\":2,\"x\":{\"field\":\"k\"},\"y\":{\"field\":\"inertia\"}},\"id\":\"1158\",\"type\":\"Line\"},{\"attributes\":{\"margin\":[5,5,5,5],\"name\":\"HSpacer01808\",\"sizing_mode\":\"stretch_width\"},\"id\":\"1191\",\"type\":\"Spacer\"},{\"attributes\":{},\"id\":\"1156\",\"type\":\"Selection\"},{\"attributes\":{\"data_source\":{\"id\":\"1155\"},\"glyph\":{\"id\":\"1158\"},\"hover_glyph\":null,\"muted_glyph\":{\"id\":\"1160\"},\"nonselection_glyph\":{\"id\":\"1159\"},\"selection_glyph\":{\"id\":\"1163\"},\"view\":{\"id\":\"1162\"}},\"id\":\"1161\",\"type\":\"GlyphRenderer\"},{\"attributes\":{\"source\":{\"id\":\"1155\"}},\"id\":\"1162\",\"type\":\"CDSView\"}],\"root_ids\":[\"1120\"]},\"title\":\"Bokeh Application\",\"version\":\"2.3.2\"}};\n",
       "    var render_items = [{\"docid\":\"c1aa6965-b8c5-44a6-9488-7a31b0571d83\",\"root_ids\":[\"1120\"],\"roots\":{\"1120\":\"7b42cf6c-1fda-43f8-8a0f-50bd2ac80dc5\"}}];\n",
       "    root.Bokeh.embed.embed_items_notebook(docs_json, render_items);\n",
       "  }\n",
       "  if (root.Bokeh !== undefined && root.Bokeh.Panel !== undefined) {\n",
       "    embed_document(root);\n",
       "  } else {\n",
       "    var attempts = 0;\n",
       "    var timer = setInterval(function(root) {\n",
       "      if (root.Bokeh !== undefined && root.Bokeh.Panel !== undefined) {\n",
       "        clearInterval(timer);\n",
       "        embed_document(root);\n",
       "      } else if (document.readyState == \"complete\") {\n",
       "        attempts++;\n",
       "        if (attempts > 100) {\n",
       "          clearInterval(timer);\n",
       "          console.log(\"Bokeh: ERROR: Unable to run BokehJS code because BokehJS library is missing\");\n",
       "        }\n",
       "      }\n",
       "    }, 10, root)\n",
       "  }\n",
       "})(window);</script>"
      ]
     },
     "metadata": {
      "application/vnd.holoviews_exec.v0+json": {
       "id": "1120"
      }
     },
     "execution_count": 148
    }
   ],
   "metadata": {}
  },
  {
   "cell_type": "markdown",
   "source": [
    "Running K-Means with `k=<your best value for k here>`"
   ],
   "metadata": {}
  },
  {
   "cell_type": "code",
   "execution_count": 149,
   "source": [
    "# Initialize the K-Means model\r\n",
    "\r\n",
    "kmodel = KMeans(n_clusters=6, random_state=0)\r\n",
    "\r\n",
    "# Fit the model\r\n",
    "\r\n",
    "kmodel.fit(pca_df)\r\n",
    "\r\n",
    "# Predict clusters\r\n",
    "\r\n",
    "predictions = kmodel.predict(pca_df)\r\n",
    "\r\n",
    "# Create a new DataFrame including predicted clusters and cryptocurrencies features\r\n",
    "\r\n",
    "cyrpto_df_cluster = pd.DataFrame({\r\n",
    "    \"CoinName\": CoinName.CoinName,\r\n",
    "    \"Algorithm\": crypto_df.Algorithm,\r\n",
    "    \"ProofType\": crypto_df.ProofType,\r\n",
    "    \"TotalCoinsMined\": crypto_df.TotalCoinsMined,\r\n",
    "    \"TotalCoinSupply\": crypto_df.MaxSupply,\r\n",
    "    \"PC 1\": pca_df['PC 1'],\r\n",
    "    \"PC 2\": pca_df['PC 2'],\r\n",
    "    \"PC 3\": pca_df['PC 3'],\r\n",
    "    \"Class\": kmodel.labels_,\r\n",
    "    \"Predictions\": predictions, \r\n",
    "    },\r\n",
    ")\r\n",
    "cyrpto_df_cluster.head()\r\n"
   ],
   "outputs": [
    {
     "output_type": "execute_result",
     "data": {
      "text/plain": [
       "            CoinName Algorithm ProofType  TotalCoinsMined TotalCoinSupply  \\\n",
       "NVC         NovaCoin    Scrypt   PoW/PoS    3327130.86882              -1   \n",
       "XCP     CounterParty   SHA-256       PoW   2614878.378379              -1   \n",
       "NSR         NuShares       PoS       PoS  6161876092.0671               0   \n",
       "MONA        MonaCoin    Scrypt       PoW  82413387.471579              -1   \n",
       "TRI   Triangles Coin       X13   PoW/PoS    181125.443371               0   \n",
       "\n",
       "          PC 1      PC 2      PC 3  Class  Predictions  \n",
       "NVC  -1.215541 -0.638685 -0.255735      1            1  \n",
       "XCP   1.719250 -0.260389 -0.020896      0            0  \n",
       "NSR  -1.475145  0.157801 -0.547334      1            1  \n",
       "MONA  0.714617 -0.740452 -0.193213      0            0  \n",
       "TRI  -1.958795 -0.486181 -0.287454      1            1  "
      ],
      "text/html": [
       "<div>\n",
       "<style scoped>\n",
       "    .dataframe tbody tr th:only-of-type {\n",
       "        vertical-align: middle;\n",
       "    }\n",
       "\n",
       "    .dataframe tbody tr th {\n",
       "        vertical-align: top;\n",
       "    }\n",
       "\n",
       "    .dataframe thead th {\n",
       "        text-align: right;\n",
       "    }\n",
       "</style>\n",
       "<table border=\"1\" class=\"dataframe\">\n",
       "  <thead>\n",
       "    <tr style=\"text-align: right;\">\n",
       "      <th></th>\n",
       "      <th>CoinName</th>\n",
       "      <th>Algorithm</th>\n",
       "      <th>ProofType</th>\n",
       "      <th>TotalCoinsMined</th>\n",
       "      <th>TotalCoinSupply</th>\n",
       "      <th>PC 1</th>\n",
       "      <th>PC 2</th>\n",
       "      <th>PC 3</th>\n",
       "      <th>Class</th>\n",
       "      <th>Predictions</th>\n",
       "    </tr>\n",
       "  </thead>\n",
       "  <tbody>\n",
       "    <tr>\n",
       "      <th>NVC</th>\n",
       "      <td>NovaCoin</td>\n",
       "      <td>Scrypt</td>\n",
       "      <td>PoW/PoS</td>\n",
       "      <td>3327130.86882</td>\n",
       "      <td>-1</td>\n",
       "      <td>-1.215541</td>\n",
       "      <td>-0.638685</td>\n",
       "      <td>-0.255735</td>\n",
       "      <td>1</td>\n",
       "      <td>1</td>\n",
       "    </tr>\n",
       "    <tr>\n",
       "      <th>XCP</th>\n",
       "      <td>CounterParty</td>\n",
       "      <td>SHA-256</td>\n",
       "      <td>PoW</td>\n",
       "      <td>2614878.378379</td>\n",
       "      <td>-1</td>\n",
       "      <td>1.719250</td>\n",
       "      <td>-0.260389</td>\n",
       "      <td>-0.020896</td>\n",
       "      <td>0</td>\n",
       "      <td>0</td>\n",
       "    </tr>\n",
       "    <tr>\n",
       "      <th>NSR</th>\n",
       "      <td>NuShares</td>\n",
       "      <td>PoS</td>\n",
       "      <td>PoS</td>\n",
       "      <td>6161876092.0671</td>\n",
       "      <td>0</td>\n",
       "      <td>-1.475145</td>\n",
       "      <td>0.157801</td>\n",
       "      <td>-0.547334</td>\n",
       "      <td>1</td>\n",
       "      <td>1</td>\n",
       "    </tr>\n",
       "    <tr>\n",
       "      <th>MONA</th>\n",
       "      <td>MonaCoin</td>\n",
       "      <td>Scrypt</td>\n",
       "      <td>PoW</td>\n",
       "      <td>82413387.471579</td>\n",
       "      <td>-1</td>\n",
       "      <td>0.714617</td>\n",
       "      <td>-0.740452</td>\n",
       "      <td>-0.193213</td>\n",
       "      <td>0</td>\n",
       "      <td>0</td>\n",
       "    </tr>\n",
       "    <tr>\n",
       "      <th>TRI</th>\n",
       "      <td>Triangles Coin</td>\n",
       "      <td>X13</td>\n",
       "      <td>PoW/PoS</td>\n",
       "      <td>181125.443371</td>\n",
       "      <td>0</td>\n",
       "      <td>-1.958795</td>\n",
       "      <td>-0.486181</td>\n",
       "      <td>-0.287454</td>\n",
       "      <td>1</td>\n",
       "      <td>1</td>\n",
       "    </tr>\n",
       "  </tbody>\n",
       "</table>\n",
       "</div>"
      ]
     },
     "metadata": {},
     "execution_count": 149
    }
   ],
   "metadata": {}
  },
  {
   "cell_type": "markdown",
   "source": [
    "### Visualizing Results\n",
    "\n",
    "#### 3D-Scatter with Clusters"
   ],
   "metadata": {}
  },
  {
   "cell_type": "code",
   "execution_count": 150,
   "source": [
    "# Create a 3D-Scatter with the PCA data and the clusters\r\n",
    "coin_fig = px.scatter_3d(\r\n",
    "    cyrpto_df_cluster,\r\n",
    "    x=\"PC 1\",\r\n",
    "    y=\"PC 2\",\r\n",
    "    z=\"PC 3\",\r\n",
    "    hover_name='CoinName',\r\n",
    "    hover_data= ['Algorithm'],\r\n",
    "    color=\"Class\",\r\n",
    "    symbol=\"Class\",\r\n",
    ")\r\n",
    "coin_fig.update_layout(legend=dict(x=0, y=1))\r\n",
    "coin_fig.show()"
   ],
   "outputs": [
    {
     "output_type": "display_data",
     "data": {
      "application/vnd.plotly.v1+json": {
       "config": {
        "plotlyServerURL": "https://plot.ly"
       },
       "data": [
        {
         "customdata": [
          [
           "Scrypt"
          ],
          [
           "PoS"
          ],
          [
           "X13"
          ],
          [
           "Scrypt"
          ],
          [
           "X11"
          ],
          [
           "Scrypt"
          ],
          [
           "X16RT"
          ],
          [
           "Scrypt"
          ],
          [
           "HEX"
          ],
          [
           "POS 3.0"
          ],
          [
           "Quark"
          ],
          [
           "PoS"
          ],
          [
           "Ethash"
          ],
          [
           "Equihash"
          ],
          [
           "Scrypt"
          ],
          [
           "Quark"
          ],
          [
           "X13"
          ],
          [
           "Equihash210,9"
          ],
          [
           "X13"
          ],
          [
           "Scrypt"
          ],
          [
           "Loopchain"
          ],
          [
           "Quark"
          ],
          [
           "IMesh"
          ],
          [
           "Scrypt"
          ],
          [
           "SHA-256"
          ],
          [
           "X11"
          ],
          [
           "X13"
          ],
          [
           "PoS"
          ],
          [
           "BLAKE256"
          ],
          [
           "Scrypt"
          ],
          [
           "POS 3.0"
          ],
          [
           "BMW512 / Echo512"
          ],
          [
           "BLAKE256"
          ],
          [
           "Scrypt"
          ],
          [
           "Scrypt"
          ],
          [
           "Scrypt"
          ],
          [
           "VBFT"
          ],
          [
           "X11"
          ],
          [
           "Ouroboros"
          ],
          [
           "X13"
          ]
         ],
         "hovertemplate": "<b>%{hovertext}</b><br><br>Class=%{marker.color}<br>PC 1=%{x}<br>PC 2=%{y}<br>PC 3=%{z}<br>Algorithm=%{customdata[0]}<extra></extra>",
         "hovertext": [
          "NovaCoin",
          "NuShares",
          "Triangles Coin",
          "SafeExchangeCoin",
          "Stakenet",
          "OpenChat",
          "VEIL",
          "Auroracoin",
          "XDNA",
          "TokenPay",
          "QuarkCoin",
          "Anchor Protocol",
          "BeforeCoinMarketCap",
          "Zelcash",
          "Canada eCoin",
          "Private Instant Verified Transaction",
          "NavCoin",
          "Aion",
          "Stratis",
          "Reddcoin",
          "ICON Project",
          "BlockNet",
          "INT",
          "VeriCoin",
          "Emercoin",
          "Dash",
          "CloakCoin",
          "Nxt",
          "HyperCash",
          "BlackCoin",
          "QTUM",
          "DigitalNote",
          "Decred",
          "WhiteCoin",
          "SaluS",
          "PotCoin",
          "Ontology",
          "IOCoin",
          "Cardano",
          "Bitcoin Diamond"
         ],
         "legendgroup": "1",
         "marker": {
          "color": [
           1,
           1,
           1,
           1,
           1,
           1,
           1,
           1,
           1,
           1,
           1,
           1,
           1,
           1,
           1,
           1,
           1,
           1,
           1,
           1,
           1,
           1,
           1,
           1,
           1,
           1,
           1,
           1,
           1,
           1,
           1,
           1,
           1,
           1,
           1,
           1,
           1,
           1,
           1,
           1
          ],
          "coloraxis": "coloraxis",
          "symbol": "circle"
         },
         "mode": "markers",
         "name": "1",
         "scene": "scene",
         "showlegend": true,
         "type": "scatter3d",
         "x": [
          -1.2155413940650421,
          -1.4751449941709667,
          -1.9587947993305816,
          -0.7218323154205372,
          -1.1702224874545237,
          -1.213672955297108,
          -1.9142205649598705,
          -1.2154528769966129,
          -1.915995679514656,
          -1.8713210250475663,
          -1.93862093691445,
          -1.4848218397109276,
          -0.6996408524621628,
          -0.8255009340950146,
          -0.7279422036455305,
          -1.9390084906017373,
          -1.9586616664306478,
          -1.9144273592472256,
          -1.9263851180917122,
          -1.1587099386221893,
          -1.8576140056804822,
          -1.9391185810698581,
          -0.29781854422904763,
          -0.7286713431542347,
          -0.2106756008902073,
          -1.1704930175141741,
          -1.958784514167571,
          -1.244255391767521,
          -1.9270283957256973,
          -1.1829955500483105,
          -1.8709374337425422,
          -1.8996840442401748,
          -1.9272635599180363,
          -1.2110170764227182,
          -1.2155456937855518,
          -1.2139545569967218,
          -1.8572807769285606,
          -1.471440089815244,
          -1.54012743773911,
          -1.9578345248941003
         ],
         "y": [
          -0.6386854559248883,
          0.15780084421067492,
          -0.4861813261231524,
          -0.5975354321523398,
          -0.42813198603546704,
          -0.6349950454122933,
          -0.546238338325304,
          -0.6385623844934376,
          -0.5485415647286973,
          0.27841848018450377,
          -0.5544334236752555,
          0.13868781084947124,
          -0.598348731020634,
          -0.6294785748793646,
          -0.6104724429976716,
          -0.5551988928071856,
          -0.48591837126130566,
          -0.5453419244066603,
          -0.02308982469982352,
          -0.5264359114324005,
          0.2820555226349355,
          -0.5554163358552876,
          -0.44705459362578115,
          -0.6114882129233485,
          -0.15816271105804966,
          -0.42876696690949617,
          -0.486161011580898,
          -0.0451026725720198,
          -0.5515093172308586,
          -0.17557149778136405,
          0.27897198033441917,
          -0.5152630520666955,
          -0.5518185132146789,
          -0.6322141632701161,
          -0.638693948434276,
          -0.6365864722005378,
          0.2827353660137323,
          -0.536041187554485,
          0.7320357469498412,
          -0.484802272067724
         ],
         "z": [
          -0.25573472445766005,
          -0.5473343238015879,
          -0.287454245475113,
          -0.22040536971151975,
          -0.03720372549212495,
          -0.2557053023549876,
          -0.23641332060985973,
          -0.2557112132234437,
          -0.237068586008253,
          -0.6446713704364047,
          -0.24093162332788584,
          -0.5474867040400384,
          -0.19052996547610862,
          -0.1743676956238489,
          -0.22029226306455624,
          -0.2409377260937751,
          -0.2874521490468271,
          -0.23704035908614404,
          -0.49151163622363087,
          -0.25483980569138714,
          -0.639580017873993,
          -0.2409394596764389,
          0.033028153503101225,
          -0.22052845982347646,
          -0.08341455922556874,
          -0.037169325598370134,
          -0.2874540835168186,
          -0.3913583891343284,
          -0.2388232745115061,
          -0.4596846502803096,
          -0.644578100862953,
          -0.2367750061199867,
          -0.2388933297099986,
          -0.25461027268465675,
          -0.2557347921648923,
          -0.2552673894156556,
          -0.639574020360026,
          -0.16278448069213153,
          -0.5403683519594893,
          -0.28721795049283555
         ]
        },
        {
         "customdata": [
          [
           "SHA-256"
          ],
          [
           "Scrypt"
          ],
          [
           "Scrypt"
          ],
          [
           "RandomX"
          ],
          [
           "Equihash"
          ],
          [
           "X11"
          ],
          [
           "Equihash"
          ],
          [
           "Ethash"
          ],
          [
           "IMesh"
          ],
          [
           "Equihash"
          ],
          [
           "CryptoNight"
          ],
          [
           "C31"
          ],
          [
           "X16R"
          ],
          [
           "Scrypt"
          ],
          [
           "CryptoNight-Heavy"
          ],
          [
           "Ethash"
          ],
          [
           "SHA-256"
          ],
          [
           "CryptoNight-Lite"
          ],
          [
           "Multiple"
          ],
          [
           "Equihash"
          ],
          [
           "SHA-256"
          ],
          [
           "Scrypt"
          ],
          [
           "Equihash"
          ],
          [
           "Equihash"
          ],
          [
           "SHA-256"
          ],
          [
           "Eaglesong"
          ],
          [
           "Autolykos"
          ],
          [
           "Dagger-Hashimoto"
          ],
          [
           "X11GOST"
          ],
          [
           "Equihash"
          ],
          [
           "Multiple"
          ],
          [
           "SHA-256"
          ],
          [
           "Scrypt"
          ],
          [
           "Blake2B + SHA3"
          ],
          [
           "SHA-256"
          ],
          [
           "Groestl"
          ],
          [
           "Lyra2REv2"
          ],
          [
           "Blake2b"
          ],
          [
           "Equihash"
          ],
          [
           "MTP"
          ],
          [
           "SHA-256"
          ],
          [
           "Scrypt"
          ],
          [
           "Multiple"
          ],
          [
           "SHA-256"
          ],
          [
           "KECCAK"
          ],
          [
           "Ethash"
          ],
          [
           "Scrypt"
          ],
          [
           "Scrypt"
          ],
          [
           "Blake2b"
          ],
          [
           "Scrypt"
          ],
          [
           "Ethash"
          ],
          [
           "Scrypt"
          ],
          [
           "Equihash"
          ],
          [
           "Equihash"
          ],
          [
           "PoS"
          ],
          [
           "SHA-256"
          ],
          [
           "RandomX"
          ],
          [
           "C31"
          ],
          [
           "NeoScrypt"
          ],
          [
           "Ethash"
          ],
          [
           "Tensority"
          ],
          [
           "CryptoNight"
          ],
          [
           "SHA-256"
          ]
         ],
         "hovertemplate": "<b>%{hovertext}</b><br><br>Class=%{marker.color}<br>PC 1=%{x}<br>PC 2=%{y}<br>PC 3=%{z}<br>Algorithm=%{customdata[0]}<extra></extra>",
         "hovertext": [
          "CounterParty",
          "MonaCoin",
          "CometCoin",
          "Quantum Resistant Ledger",
          "BitcoinZ",
          "Pura",
          "Bitcoin Private",
          "Callisto Network",
          "Aidos Kuneen",
          "Beam",
          "Beldex",
          "MimbleWimbleCoin",
          "Ravencoin Classic",
          "Primas",
          "Haven Protocol",
          "EtherZero",
          "Bitcoin ABC",
          "AEON",
          "Circuits of Value",
          "TENT",
          "Arweave",
          "MegaCoin",
          "Pirate Chain",
          "Bithereum",
          "Smart Bitcoin",
          "Nervos Network",
          "Ergo",
          "Ubiq",
          "SibCoin",
          "Komodo",
          "DigiByte",
          "Bitcoin",
          "Litecoin",
          "Handshake",
          "UnitedBitcoin",
          "Groestlcoin",
          "Vertcoin",
          "Nano",
          "Horizen",
          "Firo",
          "Bitcoin Cash",
          "Flo",
          "Verge",
          "SysCoin",
          "SmartCash",
          "Ethereum",
          "Dogecoin",
          "ViaCoin",
          "Siacoin",
          "Gulden",
          "Ethereum Classic",
          "Einsteinium",
          "Bitcoin Gold",
          "ZCash",
          "Steem",
          "Namecoin",
          "Monero",
          "Grin",
          "FeatherCoin",
          "Expanse",
          "Bytom",
          "ByteCoin",
          "Bitcoin SV"
         ],
         "legendgroup": "0",
         "marker": {
          "color": [
           0,
           0,
           0,
           0,
           0,
           0,
           0,
           0,
           0,
           0,
           0,
           0,
           0,
           0,
           0,
           0,
           0,
           0,
           0,
           0,
           0,
           0,
           0,
           0,
           0,
           0,
           0,
           0,
           0,
           0,
           0,
           0,
           0,
           0,
           0,
           0,
           0,
           0,
           0,
           0,
           0,
           0,
           0,
           0,
           0,
           0,
           0,
           0,
           0,
           0,
           0,
           0,
           0,
           0,
           0,
           0,
           0,
           0,
           0,
           0,
           0,
           0,
           0
          ],
          "coloraxis": "coloraxis",
          "symbol": "diamond"
         },
         "mode": "markers",
         "name": "0",
         "scene": "scene",
         "showlegend": true,
         "type": "scatter3d",
         "x": [
          1.7192499463824211,
          0.7146171435473776,
          0.7144642814191061,
          1.4242372594576125,
          1.1799294285393989,
          0.45882648106924995,
          1.1031709976178472,
          1.2380454942888306,
          0.9604625557209368,
          1.1039617333879548,
          1.743504534828387,
          1.4237887222535681,
          1.5453529053734518,
          0.7146501127488705,
          1.4152121760180316,
          1.2147593093929134,
          1.7193386900890786,
          1.4152204298655278,
          1.4769746223000386,
          -0.05747073694109417,
          1.7195493709202605,
          0.7146536973420543,
          -0.056437864033834446,
          1.103158097948669,
          1.7193034769328293,
          1.521648215459875,
          1.4157617064311243,
          1.4153277351002058,
          1.4153257837942819,
          -0.05661735511958193,
          1.5592649010315172,
          1.7193386428315025,
          0.7148240498671541,
          1.4262725323653136,
          1.7193428413560712,
          1.4159191055729006,
          1.415763107851608,
          1.4578454049087135,
          1.1031798360106762,
          1.4153044045572198,
          1.7193387045432997,
          0.7151693681891869,
          1.5505829146398702,
          1.7228701639518376,
          1.447880367523807,
          1.2145541385874374,
          0.958837798428314,
          0.7145060902196912,
          1.5478427395490728,
          0.7201497812654439,
          1.215162621850193,
          0.7148785443561299,
          1.1031938378815493,
          1.1031798403189184,
          0.41187499059080507,
          1.7192780303826147,
          1.4238392158883024,
          1.4238508314497242,
          1.4175737488790183,
          1.2146785523427728,
          1.4216459470074665,
          2.5999517456414725,
          1.7193387001645208
         ],
         "y": [
          -0.26038934369006933,
          -0.7404519022162808,
          -0.7407538248799715,
          -0.7344160562927009,
          -0.6338170589650465,
          -0.6375400278675685,
          -0.7337200279847218,
          -0.7012681364432845,
          -0.6532221431308755,
          -0.732749598310632,
          -0.23470380037089103,
          -0.735023671727589,
          -0.5572252920718376,
          -0.7403867837388288,
          -0.7304528711684186,
          -0.7312400268679555,
          -0.26026582461846215,
          -0.7304360319144959,
          -0.6703986955142716,
          -0.5986152781321363,
          -0.25996061961259315,
          -0.7404832263680197,
          -0.5970173660439271,
          -0.7336891271151416,
          -0.26033537519959105,
          -0.5133052323088972,
          -0.7297612404757969,
          -0.7302171109693881,
          -0.7303133736324213,
          -0.5973835584132645,
          -0.5596259842272151,
          -0.26026591795834947,
          -0.740250280555763,
          -0.7168523657875994,
          -0.2602576253242167,
          -0.7294720228535767,
          -0.7296980030978152,
          -0.6629319723437778,
          -0.7336979529376667,
          -0.7303587486613295,
          -0.2602657960694888,
          -0.7397555585139594,
          -0.5658178920354688,
          -0.25542770627643707,
          -0.6857760238362955,
          -0.7316452659961535,
          -0.2580842230423883,
          -0.7406712470377386,
          -0.4848470524829868,
          -0.7336651270277424,
          -0.7309627708194039,
          -0.7399356014901465,
          -0.7336702974145844,
          -0.7336979444283244,
          -0.42824802570858717,
          -0.2603338741230016,
          -0.7349434376430537,
          -0.7348517014459082,
          -0.7271113671286488,
          -0.7316460151269472,
          -0.7182496997700143,
          1.0022049206792172,
          -0.26026580471814986
         ],
         "z": [
          -0.02089644242894735,
          -0.19321293878742163,
          -0.19321534588972689,
          -0.11447195340701333,
          -0.08876442184667731,
          -0.10028416440704387,
          -0.1120664023783182,
          -0.12104378929846465,
          -0.06579653193092863,
          -0.11180125837151889,
          -0.011862683033304159,
          -0.11461329055799162,
          -0.06775814187173432,
          -0.19321241962498098,
          -0.11373259789559478,
          -0.12825632524014355,
          -0.020872927625907006,
          -0.11373244934127627,
          -0.10141446118717949,
          -0.060308899443604305,
          -0.020822215705210218,
          -0.19316812844875714,
          -0.060049493330084566,
          -0.11209069615005277,
          -0.0208734821236356,
          -0.11181694196890433,
          -0.11351963096577437,
          -0.11373051804142217,
          -0.11368692100070359,
          -0.060052723844522767,
          -0.07800128060482922,
          -0.020872928370066924,
          -0.19312121119704564,
          -0.10929497896156905,
          -0.02087286225633134,
          -0.11350171364890461,
          -0.1135481534839419,
          -0.1137179647713342,
          -0.11206823647866447,
          -0.1136864746995125,
          -0.02087292739829764,
          -0.19303572971159333,
          -0.08281950371916419,
          -0.019904186699010198,
          -0.1027560204236478,
          -0.1282595560425688,
          -0.18936722261736694,
          -0.193214687532131,
          -0.11244112464548603,
          -0.1913564277813319,
          -0.12802806343122225,
          -0.19320882253723162,
          -0.11206801599272222,
          -0.11206823641082304,
          -0.28092409376281025,
          -0.020896000193241133,
          -0.11458880817941737,
          -0.11463337668892087,
          -0.11299197932164702,
          -0.12815227612833757,
          -0.11318048008281316,
          0.19590894721292004,
          -0.020872927467249884
         ]
        },
        {
         "customdata": [
          [
           "Dagger"
          ],
          [
           "Dagger"
          ],
          [
           "Proof-of-Authority"
          ],
          [
           "VeChainThor Authority"
          ]
         ],
         "hovertemplate": "<b>%{hovertext}</b><br><br>Class=%{marker.color}<br>PC 1=%{x}<br>PC 2=%{y}<br>PC 3=%{z}<br>Algorithm=%{customdata[0]}<extra></extra>",
         "hovertext": [
          "Amber",
          "DAPS Coin",
          "Poa Network",
          "VeChain"
         ],
         "legendgroup": "3",
         "marker": {
          "color": [
           3,
           3,
           3,
           3
          ],
          "coloraxis": "coloraxis",
          "symbol": "square"
         },
         "mode": "markers",
         "name": "3",
         "scene": "scene",
         "showlegend": true,
         "type": "scatter3d",
         "x": [
          -1.5126593930266632,
          -0.8872855523767899,
          -1.7340437466505563,
          0.5396287220981941
         ],
         "y": [
          0.9834210102303395,
          1.9096668179362246,
          0.6084992211156113,
          4.671509336656107
         ],
         "z": [
          5.921175372344129,
          6.093684982877173,
          5.789343531300931,
          8.793416559913688
         ]
        },
        {
         "customdata": [
          [
           "SHA-512"
          ],
          [
           "DPoS"
          ],
          [
           "DPoS"
          ],
          [
           "SHA-512"
          ],
          [
           "DPoS"
          ],
          [
           "DPoS"
          ],
          [
           "DPoS"
          ],
          [
           "DPoS"
          ],
          [
           "DPoS"
          ]
         ],
         "hovertemplate": "<b>%{hovertext}</b><br><br>Class=%{marker.color}<br>PC 1=%{x}<br>PC 2=%{y}<br>PC 3=%{z}<br>Algorithm=%{customdata[0]}<extra></extra>",
         "hovertext": [
          "Kcash",
          "Rise",
          "Oxycoin",
          "Bitshares",
          "Shift",
          "Lisk",
          "EOS",
          "ARK",
          "Achain"
         ],
         "legendgroup": "2",
         "marker": {
          "color": [
           2,
           2,
           2,
           2,
           2,
           2,
           2,
           2,
           2
          ],
          "coloraxis": "coloraxis",
          "symbol": "x"
         },
         "mode": "markers",
         "name": "2",
         "scene": "scene",
         "showlegend": true,
         "type": "scatter3d",
         "x": [
          -1.6473513717149906,
          -1.7050228988106197,
          -1.3701801703365715,
          -1.368749792875887,
          -1.3722564565225472,
          -1.372013315118666,
          -1.3703507554655971,
          -1.3719867976870646,
          -1.370409597470654
         ],
         "y": [
          1.9455580478061918,
          1.5732281850297236,
          3.3227963202359256,
          3.0226694279005057,
          3.3186953839358493,
          3.3191756199533886,
          3.3224593923342693,
          3.319227995342955,
          3.3223431716893224
         ],
         "z": [
          -1.9183672819936506,
          -1.386429229210394,
          -2.159496623288551,
          -2.0895247262226313,
          -2.159529318341975,
          -2.1595254896206546,
          -2.1594993094740795,
          -2.1595250720535337,
          -2.159500236051698
         ]
        },
        {
         "customdata": [
          [
           "SPoS"
          ],
          [
           "ECC 256K1"
          ],
          [
           "SPL Token"
          ],
          [
           "SHA3"
          ],
          [
           "Leased POS"
          ],
          [
           "BEP-2"
          ]
         ],
         "hovertemplate": "<b>%{hovertext}</b><br><br>Class=%{marker.color}<br>PC 1=%{x}<br>PC 2=%{y}<br>PC 3=%{z}<br>Algorithm=%{customdata[0]}<extra></extra>",
         "hovertext": [
          "V Systems",
          "Acute Angle Cloud",
          "MAPS",
          "Nexus",
          "Waves",
          "Binance Coin"
         ],
         "legendgroup": "5",
         "marker": {
          "color": [
           5,
           5,
           5,
           5,
           5,
           5
          ],
          "coloraxis": "coloraxis",
          "symbol": "cross"
         },
         "mode": "markers",
         "name": "5",
         "scene": "scene",
         "showlegend": true,
         "type": "scatter3d",
         "x": [
          -1.9259726625468867,
          -1.9836856766572573,
          -1.8193468792962508,
          -1.9932880901763999,
          -1.9942466606197347,
          -1.9935089855160972
         ],
         "y": [
          0.0793941638381588,
          -0.06916522367893058,
          0.1515133195954631,
          -0.0954611547405252,
          -0.09635031066889364,
          -0.09445145712123378
         ],
         "z": [
          1.7341539161541017,
          1.7237070085937474,
          2.5160832292416346,
          1.7279173321473305,
          1.721795314586736,
          1.721928844671259
         ]
        },
        {
         "customdata": [
          [
           "SHA-256"
          ],
          [
           "TRC10"
          ]
         ],
         "hovertemplate": "<b>%{hovertext}</b><br><br>Class=%{marker.color}<br>PC 1=%{x}<br>PC 2=%{y}<br>PC 3=%{z}<br>Algorithm=%{customdata[0]}<extra></extra>",
         "hovertext": [
          "Wibcoin",
          "BitTorrent"
         ],
         "legendgroup": "4",
         "marker": {
          "color": [
           4,
           4
          ],
          "coloraxis": "coloraxis",
          "symbol": "circle"
         },
         "mode": "markers",
         "name": "4",
         "scene": "scene",
         "showlegend": true,
         "type": "scatter3d",
         "x": [
          6.376323946002206,
          1.9176622534382346
         ],
         "y": [
          6.473073214879241,
          9.92435533652284
         ],
         "z": [
          1.105663449930342,
          -2.1071068654852443
         ]
        }
       ],
       "layout": {
        "coloraxis": {
         "colorbar": {
          "title": {
           "text": "Class"
          }
         },
         "colorscale": [
          [
           0,
           "#0d0887"
          ],
          [
           0.1111111111111111,
           "#46039f"
          ],
          [
           0.2222222222222222,
           "#7201a8"
          ],
          [
           0.3333333333333333,
           "#9c179e"
          ],
          [
           0.4444444444444444,
           "#bd3786"
          ],
          [
           0.5555555555555556,
           "#d8576b"
          ],
          [
           0.6666666666666666,
           "#ed7953"
          ],
          [
           0.7777777777777778,
           "#fb9f3a"
          ],
          [
           0.8888888888888888,
           "#fdca26"
          ],
          [
           1,
           "#f0f921"
          ]
         ]
        },
        "legend": {
         "title": {
          "text": "Class"
         },
         "tracegroupgap": 0,
         "x": 0,
         "y": 1
        },
        "margin": {
         "t": 60
        },
        "scene": {
         "domain": {
          "x": [
           0,
           1
          ],
          "y": [
           0,
           1
          ]
         },
         "xaxis": {
          "title": {
           "text": "PC 1"
          }
         },
         "yaxis": {
          "title": {
           "text": "PC 2"
          }
         },
         "zaxis": {
          "title": {
           "text": "PC 3"
          }
         }
        },
        "template": {
         "data": {
          "bar": [
           {
            "error_x": {
             "color": "#2a3f5f"
            },
            "error_y": {
             "color": "#2a3f5f"
            },
            "marker": {
             "line": {
              "color": "#E5ECF6",
              "width": 0.5
             },
             "pattern": {
              "fillmode": "overlay",
              "size": 10,
              "solidity": 0.2
             }
            },
            "type": "bar"
           }
          ],
          "barpolar": [
           {
            "marker": {
             "line": {
              "color": "#E5ECF6",
              "width": 0.5
             },
             "pattern": {
              "fillmode": "overlay",
              "size": 10,
              "solidity": 0.2
             }
            },
            "type": "barpolar"
           }
          ],
          "carpet": [
           {
            "aaxis": {
             "endlinecolor": "#2a3f5f",
             "gridcolor": "white",
             "linecolor": "white",
             "minorgridcolor": "white",
             "startlinecolor": "#2a3f5f"
            },
            "baxis": {
             "endlinecolor": "#2a3f5f",
             "gridcolor": "white",
             "linecolor": "white",
             "minorgridcolor": "white",
             "startlinecolor": "#2a3f5f"
            },
            "type": "carpet"
           }
          ],
          "choropleth": [
           {
            "colorbar": {
             "outlinewidth": 0,
             "ticks": ""
            },
            "type": "choropleth"
           }
          ],
          "contour": [
           {
            "colorbar": {
             "outlinewidth": 0,
             "ticks": ""
            },
            "colorscale": [
             [
              0,
              "#0d0887"
             ],
             [
              0.1111111111111111,
              "#46039f"
             ],
             [
              0.2222222222222222,
              "#7201a8"
             ],
             [
              0.3333333333333333,
              "#9c179e"
             ],
             [
              0.4444444444444444,
              "#bd3786"
             ],
             [
              0.5555555555555556,
              "#d8576b"
             ],
             [
              0.6666666666666666,
              "#ed7953"
             ],
             [
              0.7777777777777778,
              "#fb9f3a"
             ],
             [
              0.8888888888888888,
              "#fdca26"
             ],
             [
              1,
              "#f0f921"
             ]
            ],
            "type": "contour"
           }
          ],
          "contourcarpet": [
           {
            "colorbar": {
             "outlinewidth": 0,
             "ticks": ""
            },
            "type": "contourcarpet"
           }
          ],
          "heatmap": [
           {
            "colorbar": {
             "outlinewidth": 0,
             "ticks": ""
            },
            "colorscale": [
             [
              0,
              "#0d0887"
             ],
             [
              0.1111111111111111,
              "#46039f"
             ],
             [
              0.2222222222222222,
              "#7201a8"
             ],
             [
              0.3333333333333333,
              "#9c179e"
             ],
             [
              0.4444444444444444,
              "#bd3786"
             ],
             [
              0.5555555555555556,
              "#d8576b"
             ],
             [
              0.6666666666666666,
              "#ed7953"
             ],
             [
              0.7777777777777778,
              "#fb9f3a"
             ],
             [
              0.8888888888888888,
              "#fdca26"
             ],
             [
              1,
              "#f0f921"
             ]
            ],
            "type": "heatmap"
           }
          ],
          "heatmapgl": [
           {
            "colorbar": {
             "outlinewidth": 0,
             "ticks": ""
            },
            "colorscale": [
             [
              0,
              "#0d0887"
             ],
             [
              0.1111111111111111,
              "#46039f"
             ],
             [
              0.2222222222222222,
              "#7201a8"
             ],
             [
              0.3333333333333333,
              "#9c179e"
             ],
             [
              0.4444444444444444,
              "#bd3786"
             ],
             [
              0.5555555555555556,
              "#d8576b"
             ],
             [
              0.6666666666666666,
              "#ed7953"
             ],
             [
              0.7777777777777778,
              "#fb9f3a"
             ],
             [
              0.8888888888888888,
              "#fdca26"
             ],
             [
              1,
              "#f0f921"
             ]
            ],
            "type": "heatmapgl"
           }
          ],
          "histogram": [
           {
            "marker": {
             "pattern": {
              "fillmode": "overlay",
              "size": 10,
              "solidity": 0.2
             }
            },
            "type": "histogram"
           }
          ],
          "histogram2d": [
           {
            "colorbar": {
             "outlinewidth": 0,
             "ticks": ""
            },
            "colorscale": [
             [
              0,
              "#0d0887"
             ],
             [
              0.1111111111111111,
              "#46039f"
             ],
             [
              0.2222222222222222,
              "#7201a8"
             ],
             [
              0.3333333333333333,
              "#9c179e"
             ],
             [
              0.4444444444444444,
              "#bd3786"
             ],
             [
              0.5555555555555556,
              "#d8576b"
             ],
             [
              0.6666666666666666,
              "#ed7953"
             ],
             [
              0.7777777777777778,
              "#fb9f3a"
             ],
             [
              0.8888888888888888,
              "#fdca26"
             ],
             [
              1,
              "#f0f921"
             ]
            ],
            "type": "histogram2d"
           }
          ],
          "histogram2dcontour": [
           {
            "colorbar": {
             "outlinewidth": 0,
             "ticks": ""
            },
            "colorscale": [
             [
              0,
              "#0d0887"
             ],
             [
              0.1111111111111111,
              "#46039f"
             ],
             [
              0.2222222222222222,
              "#7201a8"
             ],
             [
              0.3333333333333333,
              "#9c179e"
             ],
             [
              0.4444444444444444,
              "#bd3786"
             ],
             [
              0.5555555555555556,
              "#d8576b"
             ],
             [
              0.6666666666666666,
              "#ed7953"
             ],
             [
              0.7777777777777778,
              "#fb9f3a"
             ],
             [
              0.8888888888888888,
              "#fdca26"
             ],
             [
              1,
              "#f0f921"
             ]
            ],
            "type": "histogram2dcontour"
           }
          ],
          "mesh3d": [
           {
            "colorbar": {
             "outlinewidth": 0,
             "ticks": ""
            },
            "type": "mesh3d"
           }
          ],
          "parcoords": [
           {
            "line": {
             "colorbar": {
              "outlinewidth": 0,
              "ticks": ""
             }
            },
            "type": "parcoords"
           }
          ],
          "pie": [
           {
            "automargin": true,
            "type": "pie"
           }
          ],
          "scatter": [
           {
            "marker": {
             "colorbar": {
              "outlinewidth": 0,
              "ticks": ""
             }
            },
            "type": "scatter"
           }
          ],
          "scatter3d": [
           {
            "line": {
             "colorbar": {
              "outlinewidth": 0,
              "ticks": ""
             }
            },
            "marker": {
             "colorbar": {
              "outlinewidth": 0,
              "ticks": ""
             }
            },
            "type": "scatter3d"
           }
          ],
          "scattercarpet": [
           {
            "marker": {
             "colorbar": {
              "outlinewidth": 0,
              "ticks": ""
             }
            },
            "type": "scattercarpet"
           }
          ],
          "scattergeo": [
           {
            "marker": {
             "colorbar": {
              "outlinewidth": 0,
              "ticks": ""
             }
            },
            "type": "scattergeo"
           }
          ],
          "scattergl": [
           {
            "marker": {
             "colorbar": {
              "outlinewidth": 0,
              "ticks": ""
             }
            },
            "type": "scattergl"
           }
          ],
          "scattermapbox": [
           {
            "marker": {
             "colorbar": {
              "outlinewidth": 0,
              "ticks": ""
             }
            },
            "type": "scattermapbox"
           }
          ],
          "scatterpolar": [
           {
            "marker": {
             "colorbar": {
              "outlinewidth": 0,
              "ticks": ""
             }
            },
            "type": "scatterpolar"
           }
          ],
          "scatterpolargl": [
           {
            "marker": {
             "colorbar": {
              "outlinewidth": 0,
              "ticks": ""
             }
            },
            "type": "scatterpolargl"
           }
          ],
          "scatterternary": [
           {
            "marker": {
             "colorbar": {
              "outlinewidth": 0,
              "ticks": ""
             }
            },
            "type": "scatterternary"
           }
          ],
          "surface": [
           {
            "colorbar": {
             "outlinewidth": 0,
             "ticks": ""
            },
            "colorscale": [
             [
              0,
              "#0d0887"
             ],
             [
              0.1111111111111111,
              "#46039f"
             ],
             [
              0.2222222222222222,
              "#7201a8"
             ],
             [
              0.3333333333333333,
              "#9c179e"
             ],
             [
              0.4444444444444444,
              "#bd3786"
             ],
             [
              0.5555555555555556,
              "#d8576b"
             ],
             [
              0.6666666666666666,
              "#ed7953"
             ],
             [
              0.7777777777777778,
              "#fb9f3a"
             ],
             [
              0.8888888888888888,
              "#fdca26"
             ],
             [
              1,
              "#f0f921"
             ]
            ],
            "type": "surface"
           }
          ],
          "table": [
           {
            "cells": {
             "fill": {
              "color": "#EBF0F8"
             },
             "line": {
              "color": "white"
             }
            },
            "header": {
             "fill": {
              "color": "#C8D4E3"
             },
             "line": {
              "color": "white"
             }
            },
            "type": "table"
           }
          ]
         },
         "layout": {
          "annotationdefaults": {
           "arrowcolor": "#2a3f5f",
           "arrowhead": 0,
           "arrowwidth": 1
          },
          "autotypenumbers": "strict",
          "coloraxis": {
           "colorbar": {
            "outlinewidth": 0,
            "ticks": ""
           }
          },
          "colorscale": {
           "diverging": [
            [
             0,
             "#8e0152"
            ],
            [
             0.1,
             "#c51b7d"
            ],
            [
             0.2,
             "#de77ae"
            ],
            [
             0.3,
             "#f1b6da"
            ],
            [
             0.4,
             "#fde0ef"
            ],
            [
             0.5,
             "#f7f7f7"
            ],
            [
             0.6,
             "#e6f5d0"
            ],
            [
             0.7,
             "#b8e186"
            ],
            [
             0.8,
             "#7fbc41"
            ],
            [
             0.9,
             "#4d9221"
            ],
            [
             1,
             "#276419"
            ]
           ],
           "sequential": [
            [
             0,
             "#0d0887"
            ],
            [
             0.1111111111111111,
             "#46039f"
            ],
            [
             0.2222222222222222,
             "#7201a8"
            ],
            [
             0.3333333333333333,
             "#9c179e"
            ],
            [
             0.4444444444444444,
             "#bd3786"
            ],
            [
             0.5555555555555556,
             "#d8576b"
            ],
            [
             0.6666666666666666,
             "#ed7953"
            ],
            [
             0.7777777777777778,
             "#fb9f3a"
            ],
            [
             0.8888888888888888,
             "#fdca26"
            ],
            [
             1,
             "#f0f921"
            ]
           ],
           "sequentialminus": [
            [
             0,
             "#0d0887"
            ],
            [
             0.1111111111111111,
             "#46039f"
            ],
            [
             0.2222222222222222,
             "#7201a8"
            ],
            [
             0.3333333333333333,
             "#9c179e"
            ],
            [
             0.4444444444444444,
             "#bd3786"
            ],
            [
             0.5555555555555556,
             "#d8576b"
            ],
            [
             0.6666666666666666,
             "#ed7953"
            ],
            [
             0.7777777777777778,
             "#fb9f3a"
            ],
            [
             0.8888888888888888,
             "#fdca26"
            ],
            [
             1,
             "#f0f921"
            ]
           ]
          },
          "colorway": [
           "#636efa",
           "#EF553B",
           "#00cc96",
           "#ab63fa",
           "#FFA15A",
           "#19d3f3",
           "#FF6692",
           "#B6E880",
           "#FF97FF",
           "#FECB52"
          ],
          "font": {
           "color": "#2a3f5f"
          },
          "geo": {
           "bgcolor": "white",
           "lakecolor": "white",
           "landcolor": "#E5ECF6",
           "showlakes": true,
           "showland": true,
           "subunitcolor": "white"
          },
          "hoverlabel": {
           "align": "left"
          },
          "hovermode": "closest",
          "mapbox": {
           "style": "light"
          },
          "paper_bgcolor": "white",
          "plot_bgcolor": "#E5ECF6",
          "polar": {
           "angularaxis": {
            "gridcolor": "white",
            "linecolor": "white",
            "ticks": ""
           },
           "bgcolor": "#E5ECF6",
           "radialaxis": {
            "gridcolor": "white",
            "linecolor": "white",
            "ticks": ""
           }
          },
          "scene": {
           "xaxis": {
            "backgroundcolor": "#E5ECF6",
            "gridcolor": "white",
            "gridwidth": 2,
            "linecolor": "white",
            "showbackground": true,
            "ticks": "",
            "zerolinecolor": "white"
           },
           "yaxis": {
            "backgroundcolor": "#E5ECF6",
            "gridcolor": "white",
            "gridwidth": 2,
            "linecolor": "white",
            "showbackground": true,
            "ticks": "",
            "zerolinecolor": "white"
           },
           "zaxis": {
            "backgroundcolor": "#E5ECF6",
            "gridcolor": "white",
            "gridwidth": 2,
            "linecolor": "white",
            "showbackground": true,
            "ticks": "",
            "zerolinecolor": "white"
           }
          },
          "shapedefaults": {
           "line": {
            "color": "#2a3f5f"
           }
          },
          "ternary": {
           "aaxis": {
            "gridcolor": "white",
            "linecolor": "white",
            "ticks": ""
           },
           "baxis": {
            "gridcolor": "white",
            "linecolor": "white",
            "ticks": ""
           },
           "bgcolor": "#E5ECF6",
           "caxis": {
            "gridcolor": "white",
            "linecolor": "white",
            "ticks": ""
           }
          },
          "title": {
           "x": 0.05
          },
          "xaxis": {
           "automargin": true,
           "gridcolor": "white",
           "linecolor": "white",
           "ticks": "",
           "title": {
            "standoff": 15
           },
           "zerolinecolor": "white",
           "zerolinewidth": 2
          },
          "yaxis": {
           "automargin": true,
           "gridcolor": "white",
           "linecolor": "white",
           "ticks": "",
           "title": {
            "standoff": 15
           },
           "zerolinecolor": "white",
           "zerolinewidth": 2
          }
         }
        }
       }
      }
     },
     "metadata": {}
    }
   ],
   "metadata": {}
  },
  {
   "cell_type": "markdown",
   "source": [
    "#### Table of Tradable Cryptocurrencies"
   ],
   "metadata": {}
  },
  {
   "cell_type": "code",
   "execution_count": 151,
   "source": [
    "# Table with tradable cryptos\r\n",
    "\r\n",
    "columns = ['CoinName', 'Algorithm', 'ProofType', 'TotalCoinSupply', 'TotalCoinsMined', 'Class']\r\n",
    "cyrpto_df_cluster.hvplot.table(columns)"
   ],
   "outputs": [
    {
     "output_type": "display_data",
     "data": {},
     "metadata": {}
    },
    {
     "output_type": "execute_result",
     "data": {
      "application/vnd.holoviews_exec.v0+json": "",
      "text/plain": [
       ":Table   [CoinName,Algorithm,ProofType,TotalCoinSupply,TotalCoinsMined,Class]"
      ],
      "text/html": [
       "<div id='1238'>\n",
       "\n",
       "\n",
       "\n",
       "\n",
       "\n",
       "  <div class=\"bk-root\" id=\"8b2df518-de95-4f8d-8987-b8c4b5b6ef38\" data-root-id=\"1238\"></div>\n",
       "</div>\n",
       "<script type=\"application/javascript\">(function(root) {\n",
       "  function embed_document(root) {\n",
       "    var docs_json = {\"83a5ed4d-916c-493c-a83d-c279cf571d8a\":{\"defs\":[],\"roots\":{\"references\":[{\"attributes\":{\"editor\":{\"id\":\"1268\"},\"field\":\"Class\",\"formatter\":{\"id\":\"1267\"},\"title\":\"Class\"},\"id\":\"1269\",\"type\":\"TableColumn\"},{\"attributes\":{},\"id\":\"1248\",\"type\":\"StringEditor\"},{\"attributes\":{},\"id\":\"1253\",\"type\":\"StringEditor\"},{\"attributes\":{},\"id\":\"1243\",\"type\":\"StringEditor\"},{\"attributes\":{\"editor\":{\"id\":\"1243\"},\"field\":\"CoinName\",\"formatter\":{\"id\":\"1242\"},\"title\":\"CoinName\"},\"id\":\"1244\",\"type\":\"TableColumn\"},{\"attributes\":{},\"id\":\"1247\",\"type\":\"StringFormatter\"},{\"attributes\":{\"margin\":[5,5,5,5],\"name\":\"HSpacer01977\",\"sizing_mode\":\"stretch_width\"},\"id\":\"1239\",\"type\":\"Spacer\"},{\"attributes\":{},\"id\":\"1258\",\"type\":\"StringEditor\"},{\"attributes\":{\"margin\":[5,5,5,5],\"name\":\"HSpacer01978\",\"sizing_mode\":\"stretch_width\"},\"id\":\"1279\",\"type\":\"Spacer\"},{\"attributes\":{},\"id\":\"1263\",\"type\":\"StringEditor\"},{\"attributes\":{},\"id\":\"1252\",\"type\":\"StringFormatter\"},{\"attributes\":{\"editor\":{\"id\":\"1248\"},\"field\":\"Algorithm\",\"formatter\":{\"id\":\"1247\"},\"title\":\"Algorithm\"},\"id\":\"1249\",\"type\":\"TableColumn\"},{\"attributes\":{},\"id\":\"1268\",\"type\":\"IntEditor\"},{\"attributes\":{},\"id\":\"1275\",\"type\":\"UnionRenderers\"},{\"attributes\":{},\"id\":\"1241\",\"type\":\"Selection\"},{\"attributes\":{},\"id\":\"1257\",\"type\":\"StringFormatter\"},{\"attributes\":{\"editor\":{\"id\":\"1253\"},\"field\":\"ProofType\",\"formatter\":{\"id\":\"1252\"},\"title\":\"ProofType\"},\"id\":\"1254\",\"type\":\"TableColumn\"},{\"attributes\":{\"source\":{\"id\":\"1240\"}},\"id\":\"1274\",\"type\":\"CDSView\"},{\"attributes\":{\"data\":{\"Algorithm\":[\"Scrypt\",\"SHA-256\",\"PoS\",\"Scrypt\",\"X13\",\"Scrypt\",\"Scrypt\",\"X11\",\"Scrypt\",\"RandomX\",\"Dagger\",\"Equihash\",\"X11\",\"Equihash\",\"Ethash\",\"IMesh\",\"SHA-512\",\"Dagger\",\"Equihash\",\"SPoS\",\"CryptoNight\",\"X16RT\",\"C31\",\"X16R\",\"ECC 256K1\",\"Scrypt\",\"Scrypt\",\"HEX\",\"SHA-256\",\"POS 3.0\",\"CryptoNight-Heavy\",\"Ethash\",\"SHA-256\",\"Quark\",\"CryptoNight-Lite\",\"Multiple\",\"Equihash\",\"DPoS\",\"DPoS\",\"TRC10\",\"PoS\",\"SHA-256\",\"SPL Token\",\"Scrypt\",\"Equihash\",\"Equihash\",\"Ethash\",\"Equihash\",\"SHA-256\",\"Scrypt\",\"Eaglesong\",\"Proof-of-Authority\",\"Quark\",\"X13\",\"Autolykos\",\"SHA3\",\"Dagger-Hashimoto\",\"X11GOST\",\"Equihash\",\"Multiple\",\"SHA-512\",\"SHA-256\",\"Equihash210,9\",\"X13\",\"Scrypt\",\"Scrypt\",\"Loopchain\",\"Quark\",\"Blake2B + SHA3\",\"SHA-256\",\"Groestl\",\"IMesh\",\"Scrypt\",\"SHA-256\",\"Lyra2REv2\",\"DPoS\",\"Blake2b\",\"Equihash\",\"MTP\",\"X11\",\"X13\",\"SHA-256\",\"Scrypt\",\"Multiple\",\"VeChainThor Authority\",\"SHA-256\",\"KECCAK\",\"PoS\",\"BLAKE256\",\"Ethash\",\"Scrypt\",\"Scrypt\",\"Scrypt\",\"Blake2b\",\"POS 3.0\",\"DPoS\",\"Scrypt\",\"Ethash\",\"Scrypt\",\"BMW512 / Echo512\",\"BLAKE256\",\"Equihash\",\"Equihash\",\"Scrypt\",\"Leased POS\",\"PoS\",\"Scrypt\",\"Scrypt\",\"VBFT\",\"SHA-256\",\"RandomX\",\"X11\",\"C31\",\"NeoScrypt\",\"Ethash\",\"DPoS\",\"Ouroboros\",\"Tensority\",\"CryptoNight\",\"SHA-256\",\"X13\",\"BEP-2\",\"DPoS\",\"DPoS\"],\"Class\":{\"__ndarray__\":\"AQAAAAAAAAABAAAAAAAAAAEAAAABAAAAAAAAAAEAAAABAAAAAAAAAAMAAAAAAAAAAAAAAAAAAAAAAAAAAAAAAAIAAAADAAAAAAAAAAUAAAAAAAAAAQAAAAAAAAAAAAAABQAAAAAAAAABAAAAAQAAAAQAAAABAAAAAAAAAAAAAAAAAAAAAQAAAAAAAAAAAAAAAAAAAAIAAAACAAAABAAAAAEAAAAAAAAABQAAAAAAAAAAAAAAAAAAAAEAAAABAAAAAAAAAAEAAAAAAAAAAwAAAAEAAAABAAAAAAAAAAUAAAAAAAAAAAAAAAAAAAAAAAAAAgAAAAAAAAABAAAAAQAAAAEAAAAAAAAAAQAAAAEAAAAAAAAAAAAAAAAAAAABAAAAAQAAAAEAAAAAAAAAAgAAAAAAAAAAAAAAAAAAAAEAAAABAAAAAAAAAAAAAAAAAAAAAwAAAAAAAAAAAAAAAQAAAAEAAAAAAAAAAAAAAAEAAAAAAAAAAAAAAAEAAAACAAAAAAAAAAAAAAAAAAAAAQAAAAEAAAAAAAAAAAAAAAEAAAAFAAAAAAAAAAEAAAABAAAAAQAAAAAAAAAAAAAAAQAAAAAAAAAAAAAAAAAAAAIAAAABAAAAAAAAAAAAAAAAAAAAAQAAAAUAAAACAAAAAgAAAA==\",\"dtype\":\"int32\",\"order\":\"little\",\"shape\":[124]},\"CoinName\":[\"NovaCoin\",\"CounterParty\",\"NuShares\",\"MonaCoin\",\"Triangles Coin\",\"SafeExchangeCoin\",\"CometCoin\",\"Stakenet\",\"OpenChat\",\"Quantum Resistant Ledger\",\"Amber\",\"BitcoinZ\",\"Pura\",\"Bitcoin Private\",\"Callisto Network\",\"Aidos Kuneen\",\"Kcash\",\"DAPS Coin\",\"Beam\",\"V Systems\",\"Beldex\",\"VEIL\",\"MimbleWimbleCoin\",\"Ravencoin Classic\",\"Acute Angle Cloud\",\"Primas\",\"Auroracoin\",\"XDNA\",\"Wibcoin\",\"TokenPay\",\"Haven Protocol\",\"EtherZero\",\"Bitcoin ABC\",\"QuarkCoin\",\"AEON\",\"Circuits of Value\",\"TENT\",\"Rise\",\"Oxycoin\",\"BitTorrent\",\"Anchor Protocol\",\"Arweave\",\"MAPS\",\"MegaCoin\",\"Pirate Chain\",\"Bithereum\",\"BeforeCoinMarketCap\",\"Zelcash\",\"Smart Bitcoin\",\"Canada eCoin\",\"Nervos Network\",\"Poa Network\",\"Private Instant Verified Transaction\",\"NavCoin\",\"Ergo\",\"Nexus\",\"Ubiq\",\"SibCoin\",\"Komodo\",\"DigiByte\",\"Bitshares\",\"Bitcoin\",\"Aion\",\"Stratis\",\"Reddcoin\",\"Litecoin\",\"ICON Project\",\"BlockNet\",\"Handshake\",\"UnitedBitcoin\",\"Groestlcoin\",\"INT\",\"VeriCoin\",\"Emercoin\",\"Vertcoin\",\"Shift\",\"Nano\",\"Horizen\",\"Firo\",\"Dash\",\"CloakCoin\",\"Bitcoin Cash\",\"Flo\",\"Verge\",\"VeChain\",\"SysCoin\",\"SmartCash\",\"Nxt\",\"HyperCash\",\"Ethereum\",\"Dogecoin\",\"BlackCoin\",\"ViaCoin\",\"Siacoin\",\"QTUM\",\"Lisk\",\"Gulden\",\"Ethereum Classic\",\"Einsteinium\",\"DigitalNote\",\"Decred\",\"Bitcoin Gold\",\"ZCash\",\"WhiteCoin\",\"Waves\",\"Steem\",\"SaluS\",\"PotCoin\",\"Ontology\",\"Namecoin\",\"Monero\",\"IOCoin\",\"Grin\",\"FeatherCoin\",\"Expanse\",\"EOS\",\"Cardano\",\"Bytom\",\"ByteCoin\",\"Bitcoin SV\",\"Bitcoin Diamond\",\"Binance Coin\",\"ARK\",\"Achain\"],\"ProofType\":[\"PoW/PoS\",\"PoW\",\"PoS\",\"PoW\",\"PoW/PoS\",\"PoC\",\"PoW\",\"TPoS\",\"PoW/PoS\",\"PoW\",\"PoA\",\"PoW\",\"PoW\",\"PoW\",\"PoW\",\"PoW\",\"Zero-Knowledge Proof\",\" PoW/PoS/PoA\",\"PoW\",\"SPoS\",\"PoW\",\"PoW/PoS\",\"PoW\",\"PoW\",\"DPOS\",\"PoW\",\"PoW/PoS\",\"PoW/PoS\",\"PoW\",\"PoS\",\"PoW\",\"PoW\",\"PoW\",\"PoW/PoS\",\"PoW\",\"PoW\",\"mPoW\",\"PoS\",\"DPoS\",\"DPoS\",\"PoS\",\"PoW\",\"PoH\",\"PoW\",\"dPoW\",\"PoW\",\"PoW/PoS\",\"PoW/PoS\",\"PoW\",\"Auxpow\",\"PoW\",\"PoA\",\"PoW/PoS\",\"PoW/PoS\",\"PoW\",\"PoW/nPoS\",\"PoW\",\"PoW\",\"dPoW/PoW\",\"PoW\",\"DPoS\",\"PoW\",\"PoW/PoS\",\"PoS\",\"PoW/PoS\",\"PoW\",\"PoS\",\"PoW/PoS\",\"PoW\",\"PoW\",\"PoW\",\"DPoS+dBFT\",\"PoST\",\"PoW/PoS\",\"PoW\",\"DPoS\",\"PoW\",\"PoW\",\"PoW\",\"PoW/PoSe\",\"PoW/PoS\",\"PoW\",\"PoW\",\"PoW\",\"Proof of Authority\",\"PoW\",\"PoW\",\"PoS/LPoS\",\"PoW/PoS\",\"PoW\",\"PoW\",\"PoS\",\"PoW\",\"PoW\",\"PoS\",\"DPoS\",\"PoW\",\"PoW\",\"PoW\",\"PoW/PoS\",\"PoW/PoS\",\"PoW\",\"PoW\",\"PoW/PoS\",\"LPoS\",\"PoW\",\"PoW/PoS\",\"PoW/PoS\",\"PoS\",\"PoW\",\"PoW\",\"PoW/PoS\",\"PoW\",\"PoW\",\"PoW\",\"DPoS\",\"PoS\",\"PoW\",\"PoW\",\"PoW\",\"PoW/PoS\",\"PoSA\",\"DPoS\",\"DPoS\"],\"TotalCoinSupply\":{\"__ndarray__\":\"AAAAAAAA8L8AAAAAAADwvwAAAAAAAAAAAAAAAAAA8L8AAAAAAAAAAAAAAAAAAPC/AAAAAAAAAAAAAAAAAADwvwAAAAAAAPC/AAAAALEImUEAAAAAAADwvwAAAEjKjhNCAAAAAAAA8L8AAABAX9B1QQAAABDiNvhBAAAAAAAAAAAAAAAAAADwvwAAADxTTDBCAAAAAAVUr0EAAAAAAADwvwAAAAAAAPC/AAAAAKPhsUEAAAAA0BJzQQAAAEjKjhNCAAAAAAAA8L8AAAAAAADwvwAAAAD0BnRBAAAAAAAAAADsDROLtBptQgAAAACE13dBAAAAAAAA8L8AAAAAAADwv+Vhof/zBnRBAAAAAAAA8L8AAAAAAADwvwAAAAAAAPC/AAAAANAMlEEAAAAAAADwvwAAAAAAAPC/AAAAAAAA8L8AAAAAAADwvwAAAACkeI9BAAAAIF+gAkIAAAAA9AaEQQAAAACE16dBAAAAAAAAAAAAAAAAAADwvwAAAACxCKlBAAAAAPQGdEEAAABQApmZQQAAAAAAAPC/AAAAAAAA8L8AAAAAAADwvwAAAAAAAPC/AAAAUpJNl0EAAAAAvpiSQQAAAAAAAPC/AAAAAPQGdEEAAAAAhNenQQAAAEjKjhNCAADAEIvT6kHlYaH/8wZ0QQAAAAAAAPC/AAAAAAAA8L8AAAAAAADwvwAAAAD0BpRBAAAAAAAA8L8AAAAAAADwvwAAAID7Zd5BAAAAAPQGdEEAAAAAsQiZQQAAAABlzc1BAAAAAAAA8L8AAAAAAADwvwAAAAD0BpRBAAAAAAAA8L8AAACI1MSfQQAAAAD0BnRBAAAAAJxodEEAAAAAQgZyQQAAAAAAAPC/5WGh//MGdEEAAAAA0BKjQQAAAAYK1g5CAABizHkwNEIAAAAA53bKQQAAACBfoPJBAAAAAGXNzUEAAAAA9AaUQQAAAAAAAPC/AAAAAAAA8L8AAAAAhNeXQQAAAAAAAPC/AAAAAAAA8L8AAAAJ9bSZQQAAAAAAAPC/AAAAALEI2UEAAADADR6pQQAAAAAAAPC/AAAAAAAA8L8AAAAA9AZ0QQAAAAD0BnRBAAAAAPQGdEEAAAAAZc3NQQAAAAAAAPC/AAAAAAAA8L8AAAAAAADwvwAAAACxCLlBAAAAAAAA8L8AAAAAAADwvwAAAAAAAPC/AAAAABj7dEEAAAAAAADwvwAAAAD0BrRBAAAAAITXl0EAAAAAAADwvwAAAARr9CRCAAAAALEIqUEAAMBoonlFQuVhof/zBnRBAAAAALEIqUEAAAAAAADwvwAAAAAAAPC/AAAAAAAAAAA=\",\"dtype\":\"float64\",\"order\":\"little\",\"shape\":[124]},\"TotalCoinsMined\":{\"__ndarray__\":\"Z341b01iSUHqtG4wL/NDQdcSwUds9PZBsOXiLR2mk0FIGAaMKxwGQQAAwP///99BAAAAAPyiKkGKurZjPBCdQQAAAABlzc1BkJ9TKsO/kUEAAADBEZnGQYN/ykBGSAJC6OytgUJ0pkEke6MxvyJNQTiXBKYmW+ZBAAAAAITXd0EAAAAAZc3NQQAA6BMPBS1CHY3BdqCTkEEAAHCpje71QQAAgORs3dRB0GWZ5mu/mkFGDmzT3oNkQQAAQOor5ABCAAAAAGXNzUEAAAAAhNeXQfco42O0enJBAAAAoOXXYEHsDROLtBptQgAAAJDk3XRBiEdIZExIbUGamRm+6PaqQdU/WYZU6nFBkfdSC19KsEFV9w9/7BJxQTV0ePaVbNpBAAAAILeygUGF69G+paWlQRSu13KMudBBeqd0Mv3PbEIAAAAAZc3NQZLEZOv7so5BAAAAAKPhkUFA3nGANd+CQeWzLNyn+KVBAAAAAId0fUEl/siBzdz/QQAAAADeObpBi0XVhad0n0AAAAA0ds6XQe6VCytRph5C6c49chdEsUHBN+8XQL+PQXDmUqaO+ZBBAAAA6BIig0EU6GNxRvKQQUns1JaxWYhBmdbm5+tmckFbMszMireeQWvdaVfnAgtCxr+B21BP5kEAAAAALeRxQQAAAL2dar1BAAAAAIXPn0EfUpcEiTwcQh0T725GPZBBoqsgFK27ykHEQWE3T/VdQcg//xaoMbhBAAAAAPQGdEGmr4yPa5iSQfuJYZCZVL5BXBq0wKMkgEGwOFzDYMyGQcF3iL48EI1BAAAA4ENNbEEAAACI1MSfQQAAAJCElGVBz7LYProRZ0GbSnEw2YhjQbUMQsSpnlVB3T9ZajbscUHFr3pgwKGgQWusQ9FSrA5CAAAZmxsFNEI6HxeAI1rCQUGY3Cs+DORBQAb4u8PFzUEE5qEq8X2FQdz5vlTt1ZtBirR/vNFZPkJelsXWJPyMQRTOHXjjGXZBAADgHlOCJkIAAABExLGYQQAAAHzkOqFB3/qlzu0ZwEHNHcJYQKqeQfH//9RccqpBeFKY8g/Q8kHQ37fC6gtpQWYvxvW76XFBTKMM1KOVZUEAAACZy8rLQQAAAEiDMZlBsHKIQovttkFO3vitnIovQaW90NVW/qpBAAAAAGXNzUEAAAAAzcdwQcPGyA2tH3FBceuWZxEdckEvM/PlVoqRQTH1AwxqY61BXI/C/+GLgEH99n1Z3bzOQa8INQ5GBB5CAAAgVbM22UE6jDDijnlFQpvNTm6k63FBAAAA7Cbup0HNzMyXIgukQQEAAOCQ6qJBAAAAAGXNzUE=\",\"dtype\":\"float64\",\"order\":\"little\",\"shape\":[124]}},\"selected\":{\"id\":\"1241\"},\"selection_policy\":{\"id\":\"1275\"}},\"id\":\"1240\",\"type\":\"ColumnDataSource\"},{\"attributes\":{},\"id\":\"1262\",\"type\":\"StringFormatter\"},{\"attributes\":{\"editor\":{\"id\":\"1258\"},\"field\":\"TotalCoinSupply\",\"formatter\":{\"id\":\"1257\"},\"title\":\"TotalCoinSupply\"},\"id\":\"1259\",\"type\":\"TableColumn\"},{\"attributes\":{\"children\":[{\"id\":\"1239\"},{\"id\":\"1272\"},{\"id\":\"1279\"}],\"margin\":[0,0,0,0],\"name\":\"Row01973\",\"tags\":[\"embedded\"]},\"id\":\"1238\",\"type\":\"Row\"},{\"attributes\":{},\"id\":\"1267\",\"type\":\"NumberFormatter\"},{\"attributes\":{\"editor\":{\"id\":\"1263\"},\"field\":\"TotalCoinsMined\",\"formatter\":{\"id\":\"1262\"},\"title\":\"TotalCoinsMined\"},\"id\":\"1264\",\"type\":\"TableColumn\"},{\"attributes\":{},\"id\":\"1242\",\"type\":\"StringFormatter\"},{\"attributes\":{\"columns\":[{\"id\":\"1244\"},{\"id\":\"1249\"},{\"id\":\"1254\"},{\"id\":\"1259\"},{\"id\":\"1264\"},{\"id\":\"1269\"}],\"height\":300,\"reorderable\":false,\"source\":{\"id\":\"1240\"},\"view\":{\"id\":\"1274\"},\"width\":700},\"id\":\"1272\",\"type\":\"DataTable\"}],\"root_ids\":[\"1238\"]},\"title\":\"Bokeh Application\",\"version\":\"2.3.2\"}};\n",
       "    var render_items = [{\"docid\":\"83a5ed4d-916c-493c-a83d-c279cf571d8a\",\"root_ids\":[\"1238\"],\"roots\":{\"1238\":\"8b2df518-de95-4f8d-8987-b8c4b5b6ef38\"}}];\n",
       "    root.Bokeh.embed.embed_items_notebook(docs_json, render_items);\n",
       "  }\n",
       "  if (root.Bokeh !== undefined && root.Bokeh.Panel !== undefined) {\n",
       "    embed_document(root);\n",
       "  } else {\n",
       "    var attempts = 0;\n",
       "    var timer = setInterval(function(root) {\n",
       "      if (root.Bokeh !== undefined && root.Bokeh.Panel !== undefined) {\n",
       "        clearInterval(timer);\n",
       "        embed_document(root);\n",
       "      } else if (document.readyState == \"complete\") {\n",
       "        attempts++;\n",
       "        if (attempts > 100) {\n",
       "          clearInterval(timer);\n",
       "          console.log(\"Bokeh: ERROR: Unable to run BokehJS code because BokehJS library is missing\");\n",
       "        }\n",
       "      }\n",
       "    }, 10, root)\n",
       "  }\n",
       "})(window);</script>"
      ]
     },
     "metadata": {
      "application/vnd.holoviews_exec.v0+json": {
       "id": "1238"
      }
     },
     "execution_count": 151
    }
   ],
   "metadata": {}
  },
  {
   "cell_type": "code",
   "execution_count": null,
   "source": [
    "# Print the total number of tradable cryptocurrencies\r\n"
   ],
   "outputs": [],
   "metadata": {}
  },
  {
   "cell_type": "markdown",
   "source": [
    "#### Scatter Plot with Tradable Cryptocurrencies"
   ],
   "metadata": {}
  },
  {
   "cell_type": "code",
   "execution_count": 152,
   "source": [
    "# Scale data to create the scatter plot\r\n",
    "\r\n",
    "cyrpto_df_cluster['TotalCoinsMined'] = cyrpto_df_cluster['TotalCoinsMined'].astype(float) / 1000000000\r\n",
    "cyrpto_df_cluster['TotalCoinSupply'] = cyrpto_df_cluster['TotalCoinSupply'].astype(float) / 1000000000"
   ],
   "outputs": [],
   "metadata": {}
  },
  {
   "cell_type": "code",
   "execution_count": 154,
   "source": [
    "# Plot the scatter with x=\"TotalCoinsMined\" and y=\"TotalCoinSupply\"\r\n",
    "\r\n",
    "cyrpto_df_cluster.hvplot(\r\n",
    "    kind=\"scatter\", \r\n",
    "    x=\"TotalCoinsMined\", \r\n",
    "    y=\"TotalCoinSupply\", \r\n",
    "    c='Class', \r\n",
    "    colormap=\"Inferno_r\", \r\n",
    "    hover_cols=['CoinName'])"
   ],
   "outputs": [
    {
     "output_type": "display_data",
     "data": {},
     "metadata": {}
    },
    {
     "output_type": "execute_result",
     "data": {
      "application/vnd.holoviews_exec.v0+json": "",
      "text/plain": [
       ":Scatter   [TotalCoinsMined]   (TotalCoinSupply,Class,CoinName)"
      ],
      "text/html": [
       "<div id='1291'>\n",
       "\n",
       "\n",
       "\n",
       "\n",
       "\n",
       "  <div class=\"bk-root\" id=\"e01a6577-9323-4d35-9e54-993ed4f0b063\" data-root-id=\"1291\"></div>\n",
       "</div>\n",
       "<script type=\"application/javascript\">(function(root) {\n",
       "  function embed_document(root) {\n",
       "    var docs_json = {\"de9246a0-4701-458c-825e-a65587c121a9\":{\"defs\":[],\"roots\":{\"references\":[{\"attributes\":{\"text_color\":\"black\",\"text_font_size\":\"12pt\"},\"id\":\"1297\",\"type\":\"Title\"},{\"attributes\":{},\"id\":\"1341\",\"type\":\"AllLabels\"},{\"attributes\":{\"margin\":[5,5,5,5],\"name\":\"HSpacer02106\",\"sizing_mode\":\"stretch_width\"},\"id\":\"1367\",\"type\":\"Spacer\"},{\"attributes\":{\"bottom_units\":\"screen\",\"fill_alpha\":0.5,\"fill_color\":\"lightgrey\",\"left_units\":\"screen\",\"level\":\"overlay\",\"line_alpha\":1.0,\"line_color\":\"black\",\"line_dash\":[4,4],\"line_width\":2,\"right_units\":\"screen\",\"syncable\":false,\"top_units\":\"screen\"},\"id\":\"1318\",\"type\":\"BoxAnnotation\"},{\"attributes\":{\"callback\":null,\"renderers\":[{\"id\":\"1335\"}],\"tags\":[\"hv_created\"],\"tooltips\":[[\"TotalCoinsMined\",\"@{TotalCoinsMined}\"],[\"TotalCoinSupply\",\"@{TotalCoinSupply}\"],[\"Class\",\"@{Class}\"],[\"CoinName\",\"@{CoinName}\"]]},\"id\":\"1295\",\"type\":\"HoverTool\"},{\"attributes\":{\"end\":1042.8745900466324,\"reset_end\":1042.8745900466324,\"reset_start\":-42.85785776903376,\"start\":-42.85785776903376,\"tags\":[[[\"TotalCoinsMined\",\"TotalCoinsMined\",null]]]},\"id\":\"1293\",\"type\":\"Range1d\"},{\"attributes\":{},\"id\":\"1314\",\"type\":\"PanTool\"},{\"attributes\":{},\"id\":\"1301\",\"type\":\"LinearScale\"},{\"attributes\":{\"margin\":[5,5,5,5],\"name\":\"HSpacer02105\",\"sizing_mode\":\"stretch_width\"},\"id\":\"1292\",\"type\":\"Spacer\"},{\"attributes\":{\"fill_color\":{\"field\":\"color\",\"transform\":{\"id\":\"1326\"}},\"line_color\":{\"field\":\"color\",\"transform\":{\"id\":\"1326\"}},\"size\":{\"value\":5.477225575051661},\"x\":{\"field\":\"TotalCoinsMined\"},\"y\":{\"field\":\"TotalCoinSupply\"}},\"id\":\"1330\",\"type\":\"Scatter\"},{\"attributes\":{},\"id\":\"1306\",\"type\":\"BasicTicker\"},{\"attributes\":{\"below\":[{\"id\":\"1305\"}],\"center\":[{\"id\":\"1308\"},{\"id\":\"1312\"}],\"height\":300,\"left\":[{\"id\":\"1309\"}],\"margin\":[5,5,5,5],\"min_border_bottom\":10,\"min_border_left\":10,\"min_border_right\":10,\"min_border_top\":10,\"renderers\":[{\"id\":\"1335\"}],\"right\":[{\"id\":\"1338\"}],\"sizing_mode\":\"fixed\",\"title\":{\"id\":\"1297\"},\"toolbar\":{\"id\":\"1319\"},\"width\":700,\"x_range\":{\"id\":\"1293\"},\"x_scale\":{\"id\":\"1301\"},\"y_range\":{\"id\":\"1294\"},\"y_scale\":{\"id\":\"1303\"}},\"id\":\"1296\",\"subtype\":\"Figure\",\"type\":\"Plot\"},{\"attributes\":{\"fill_alpha\":{\"value\":0.1},\"fill_color\":{\"field\":\"color\",\"transform\":{\"id\":\"1326\"}},\"line_alpha\":{\"value\":0.1},\"line_color\":{\"field\":\"color\",\"transform\":{\"id\":\"1326\"}},\"size\":{\"value\":5.477225575051661},\"x\":{\"field\":\"TotalCoinsMined\"},\"y\":{\"field\":\"TotalCoinSupply\"}},\"id\":\"1331\",\"type\":\"Scatter\"},{\"attributes\":{\"axis_label\":\"TotalCoinsMined\",\"formatter\":{\"id\":\"1340\"},\"major_label_policy\":{\"id\":\"1341\"},\"ticker\":{\"id\":\"1306\"}},\"id\":\"1305\",\"type\":\"LinearAxis\"},{\"attributes\":{\"data_source\":{\"id\":\"1327\"},\"glyph\":{\"id\":\"1330\"},\"hover_glyph\":{\"id\":\"1333\"},\"muted_glyph\":{\"id\":\"1334\"},\"nonselection_glyph\":{\"id\":\"1331\"},\"selection_glyph\":{\"id\":\"1332\"},\"view\":{\"id\":\"1336\"}},\"id\":\"1335\",\"type\":\"GlyphRenderer\"},{\"attributes\":{},\"id\":\"1303\",\"type\":\"LinearScale\"},{\"attributes\":{},\"id\":\"1353\",\"type\":\"UnionRenderers\"},{\"attributes\":{\"axis\":{\"id\":\"1309\"},\"dimension\":1,\"grid_line_color\":null,\"ticker\":null},\"id\":\"1312\",\"type\":\"Grid\"},{\"attributes\":{\"axis\":{\"id\":\"1305\"},\"grid_line_color\":null,\"ticker\":null},\"id\":\"1308\",\"type\":\"Grid\"},{\"attributes\":{\"axis_label\":\"TotalCoinSupply\",\"formatter\":{\"id\":\"1343\"},\"major_label_policy\":{\"id\":\"1344\"},\"ticker\":{\"id\":\"1310\"}},\"id\":\"1309\",\"type\":\"LinearAxis\"},{\"attributes\":{},\"id\":\"1310\",\"type\":\"BasicTicker\"},{\"attributes\":{\"high\":5,\"low\":0,\"palette\":[\"#fcfea4\",\"#fafda0\",\"#f9fc9d\",\"#f7fb99\",\"#f6fa95\",\"#f5f891\",\"#f4f78d\",\"#f3f689\",\"#f2f485\",\"#f2f381\",\"#f1f27d\",\"#f1f079\",\"#f1ee74\",\"#f1ed70\",\"#f1eb6c\",\"#f1e968\",\"#f1e864\",\"#f2e660\",\"#f2e45d\",\"#f3e259\",\"#f3e056\",\"#f3de52\",\"#f4dc4f\",\"#f4db4b\",\"#f5d948\",\"#f5d745\",\"#f6d542\",\"#f6d33f\",\"#f7d13c\",\"#f7cf3a\",\"#f8cd37\",\"#f8cb34\",\"#f8c931\",\"#f9c72f\",\"#f9c52c\",\"#f9c32a\",\"#fac128\",\"#fabf25\",\"#fabd23\",\"#fabb21\",\"#fbb91e\",\"#fbb71c\",\"#fbb51a\",\"#fbb318\",\"#fbb116\",\"#fbb014\",\"#fbae12\",\"#fbac10\",\"#fbaa0e\",\"#fba80d\",\"#fba60b\",\"#fba40a\",\"#fba208\",\"#fba007\",\"#fb9e07\",\"#fb9d06\",\"#fb9b06\",\"#fb9906\",\"#fa9706\",\"#fa9506\",\"#fa9306\",\"#fa9107\",\"#f99008\",\"#f98e08\",\"#f98c09\",\"#f88a0b\",\"#f8880c\",\"#f8870d\",\"#f7850e\",\"#f78310\",\"#f68111\",\"#f68012\",\"#f57e14\",\"#f57c15\",\"#f47a16\",\"#f37918\",\"#f37719\",\"#f2751a\",\"#f2741c\",\"#f1721d\",\"#f0701e\",\"#f06f1f\",\"#ef6d21\",\"#ee6c22\",\"#ed6a23\",\"#ed6825\",\"#ec6726\",\"#eb6527\",\"#ea6428\",\"#e9622a\",\"#e8612b\",\"#e75f2c\",\"#e65e2d\",\"#e65c2e\",\"#e55b30\",\"#e45a31\",\"#e35832\",\"#e25733\",\"#e05634\",\"#df5436\",\"#de5337\",\"#dd5238\",\"#dc5039\",\"#db4f3a\",\"#da4e3b\",\"#d94d3d\",\"#d74b3e\",\"#d64a3f\",\"#d54940\",\"#d44841\",\"#d24742\",\"#d14643\",\"#d04544\",\"#cf4446\",\"#cd4247\",\"#cc4148\",\"#cb4049\",\"#c93f4a\",\"#c83e4b\",\"#c73e4c\",\"#c53d4d\",\"#c43c4e\",\"#c23b4f\",\"#c13a50\",\"#bf3951\",\"#be3852\",\"#bd3753\",\"#bb3754\",\"#ba3655\",\"#b83556\",\"#b73456\",\"#b53357\",\"#b43358\",\"#b23259\",\"#b1315a\",\"#af315b\",\"#ae305b\",\"#ac2f5c\",\"#ab2e5d\",\"#a92e5e\",\"#a72d5f\",\"#a62c5f\",\"#a42c60\",\"#a32b61\",\"#a12b61\",\"#a02a62\",\"#9e2963\",\"#9c2963\",\"#9b2864\",\"#992864\",\"#982765\",\"#962666\",\"#952666\",\"#932567\",\"#912567\",\"#902468\",\"#8e2468\",\"#8d2369\",\"#8b2269\",\"#892269\",\"#88216a\",\"#86216a\",\"#85206a\",\"#83206b\",\"#811f6b\",\"#801f6b\",\"#7e1e6c\",\"#7d1d6c\",\"#7b1d6c\",\"#7a1c6d\",\"#781c6d\",\"#761b6d\",\"#751b6d\",\"#731a6d\",\"#72196d\",\"#70196e\",\"#6e186e\",\"#6d186e\",\"#6b176e\",\"#6a176e\",\"#68166e\",\"#66156e\",\"#65156e\",\"#63146e\",\"#62146e\",\"#60136e\",\"#5f126e\",\"#5d126e\",\"#5b116e\",\"#5a116d\",\"#58106d\",\"#570f6d\",\"#550f6d\",\"#530e6d\",\"#520e6c\",\"#500d6c\",\"#4f0d6c\",\"#4d0c6b\",\"#4b0c6b\",\"#4a0b6a\",\"#480b6a\",\"#460a69\",\"#450a69\",\"#430a68\",\"#410967\",\"#400966\",\"#3e0966\",\"#3c0965\",\"#3b0964\",\"#390962\",\"#370961\",\"#350960\",\"#34095f\",\"#32095d\",\"#300a5c\",\"#2e0a5a\",\"#2d0a58\",\"#2b0a56\",\"#290b54\",\"#270b52\",\"#260b50\",\"#240b4e\",\"#220b4c\",\"#200c4a\",\"#1f0c47\",\"#1d0c45\",\"#1c0c43\",\"#1a0b40\",\"#190b3e\",\"#170b3b\",\"#160b39\",\"#140b36\",\"#130a34\",\"#120a32\",\"#10092f\",\"#0f092d\",\"#0e082a\",\"#0d0828\",\"#0b0726\",\"#0a0723\",\"#090621\",\"#08061f\",\"#07051d\",\"#06041b\",\"#050418\",\"#040316\",\"#040314\",\"#030212\",\"#020210\",\"#02010e\",\"#01010b\",\"#010109\",\"#010007\",\"#000006\",\"#000004\",\"#000003\"]},\"id\":\"1326\",\"type\":\"LinearColorMapper\"},{\"attributes\":{},\"id\":\"1315\",\"type\":\"WheelZoomTool\"},{\"attributes\":{\"fill_color\":{\"field\":\"color\",\"transform\":{\"id\":\"1326\"}},\"line_color\":{\"field\":\"color\",\"transform\":{\"id\":\"1326\"}},\"size\":{\"value\":5.477225575051661},\"x\":{\"field\":\"TotalCoinsMined\"},\"y\":{\"field\":\"TotalCoinSupply\"}},\"id\":\"1332\",\"type\":\"Scatter\"},{\"attributes\":{},\"id\":\"1313\",\"type\":\"SaveTool\"},{\"attributes\":{\"active_multi\":null,\"tools\":[{\"id\":\"1295\"},{\"id\":\"1313\"},{\"id\":\"1314\"},{\"id\":\"1315\"},{\"id\":\"1316\"},{\"id\":\"1317\"}]},\"id\":\"1319\",\"type\":\"Toolbar\"},{\"attributes\":{\"overlay\":{\"id\":\"1318\"}},\"id\":\"1316\",\"type\":\"BoxZoomTool\"},{\"attributes\":{},\"id\":\"1328\",\"type\":\"Selection\"},{\"attributes\":{\"children\":[{\"id\":\"1292\"},{\"id\":\"1296\"},{\"id\":\"1367\"}],\"margin\":[0,0,0,0],\"name\":\"Row02101\",\"tags\":[\"embedded\"]},\"id\":\"1291\",\"type\":\"Row\"},{\"attributes\":{},\"id\":\"1317\",\"type\":\"ResetTool\"},{\"attributes\":{\"fill_color\":{\"field\":\"color\",\"transform\":{\"id\":\"1326\"}},\"line_color\":{\"field\":\"color\",\"transform\":{\"id\":\"1326\"}},\"size\":{\"value\":5.477225575051661},\"x\":{\"field\":\"TotalCoinsMined\"},\"y\":{\"field\":\"TotalCoinSupply\"}},\"id\":\"1333\",\"type\":\"Scatter\"},{\"attributes\":{},\"id\":\"1340\",\"type\":\"BasicTickFormatter\"},{\"attributes\":{},\"id\":\"1346\",\"type\":\"NoOverlap\"},{\"attributes\":{},\"id\":\"1344\",\"type\":\"AllLabels\"},{\"attributes\":{\"source\":{\"id\":\"1327\"}},\"id\":\"1336\",\"type\":\"CDSView\"},{\"attributes\":{\"data\":{\"Class\":{\"__ndarray__\":\"AQAAAAAAAAABAAAAAAAAAAEAAAABAAAAAAAAAAEAAAABAAAAAAAAAAMAAAAAAAAAAAAAAAAAAAAAAAAAAAAAAAIAAAADAAAAAAAAAAUAAAAAAAAAAQAAAAAAAAAAAAAABQAAAAAAAAABAAAAAQAAAAQAAAABAAAAAAAAAAAAAAAAAAAAAQAAAAAAAAAAAAAAAAAAAAIAAAACAAAABAAAAAEAAAAAAAAABQAAAAAAAAAAAAAAAAAAAAEAAAABAAAAAAAAAAEAAAAAAAAAAwAAAAEAAAABAAAAAAAAAAUAAAAAAAAAAAAAAAAAAAAAAAAAAgAAAAAAAAABAAAAAQAAAAEAAAAAAAAAAQAAAAEAAAAAAAAAAAAAAAAAAAABAAAAAQAAAAEAAAAAAAAAAgAAAAAAAAAAAAAAAAAAAAEAAAABAAAAAAAAAAAAAAAAAAAAAwAAAAAAAAAAAAAAAQAAAAEAAAAAAAAAAAAAAAEAAAAAAAAAAAAAAAEAAAACAAAAAAAAAAAAAAAAAAAAAQAAAAEAAAAAAAAAAAAAAAEAAAAFAAAAAAAAAAEAAAABAAAAAQAAAAAAAAAAAAAAAQAAAAAAAAAAAAAAAAAAAAIAAAABAAAAAAAAAAAAAAAAAAAAAQAAAAUAAAACAAAAAgAAAA==\",\"dtype\":\"int32\",\"order\":\"little\",\"shape\":[124]},\"CoinName\":[\"NovaCoin\",\"CounterParty\",\"NuShares\",\"MonaCoin\",\"Triangles Coin\",\"SafeExchangeCoin\",\"CometCoin\",\"Stakenet\",\"OpenChat\",\"Quantum Resistant Ledger\",\"Amber\",\"BitcoinZ\",\"Pura\",\"Bitcoin Private\",\"Callisto Network\",\"Aidos Kuneen\",\"Kcash\",\"DAPS Coin\",\"Beam\",\"V Systems\",\"Beldex\",\"VEIL\",\"MimbleWimbleCoin\",\"Ravencoin Classic\",\"Acute Angle Cloud\",\"Primas\",\"Auroracoin\",\"XDNA\",\"Wibcoin\",\"TokenPay\",\"Haven Protocol\",\"EtherZero\",\"Bitcoin ABC\",\"QuarkCoin\",\"AEON\",\"Circuits of Value\",\"TENT\",\"Rise\",\"Oxycoin\",\"BitTorrent\",\"Anchor Protocol\",\"Arweave\",\"MAPS\",\"MegaCoin\",\"Pirate Chain\",\"Bithereum\",\"BeforeCoinMarketCap\",\"Zelcash\",\"Smart Bitcoin\",\"Canada eCoin\",\"Nervos Network\",\"Poa Network\",\"Private Instant Verified Transaction\",\"NavCoin\",\"Ergo\",\"Nexus\",\"Ubiq\",\"SibCoin\",\"Komodo\",\"DigiByte\",\"Bitshares\",\"Bitcoin\",\"Aion\",\"Stratis\",\"Reddcoin\",\"Litecoin\",\"ICON Project\",\"BlockNet\",\"Handshake\",\"UnitedBitcoin\",\"Groestlcoin\",\"INT\",\"VeriCoin\",\"Emercoin\",\"Vertcoin\",\"Shift\",\"Nano\",\"Horizen\",\"Firo\",\"Dash\",\"CloakCoin\",\"Bitcoin Cash\",\"Flo\",\"Verge\",\"VeChain\",\"SysCoin\",\"SmartCash\",\"Nxt\",\"HyperCash\",\"Ethereum\",\"Dogecoin\",\"BlackCoin\",\"ViaCoin\",\"Siacoin\",\"QTUM\",\"Lisk\",\"Gulden\",\"Ethereum Classic\",\"Einsteinium\",\"DigitalNote\",\"Decred\",\"Bitcoin Gold\",\"ZCash\",\"WhiteCoin\",\"Waves\",\"Steem\",\"SaluS\",\"PotCoin\",\"Ontology\",\"Namecoin\",\"Monero\",\"IOCoin\",\"Grin\",\"FeatherCoin\",\"Expanse\",\"EOS\",\"Cardano\",\"Bytom\",\"ByteCoin\",\"Bitcoin SV\",\"Bitcoin Diamond\",\"Binance Coin\",\"ARK\",\"Achain\"],\"TotalCoinSupply\":{\"__ndarray__\":\"ldYm6AsuEb6V1iboCy4RvgAAAAAAAAAAldYm6AsuEb4AAAAAAAAAAJXWJugLLhG+AAAAAAAAAACV1iboCy4RvpXWJugLLhG+4XoUrkfhuj+V1iboCy4RvgAAAAAAADVAldYm6AsuEb6Q1JuBLGyXPwAAAAAAABpAAAAAAAAAAACV1iboCy4RvgAAAAAAgFFAGeJYF7fR0D+V1iboCy4RvpXWJugLLhG+MzMzMzMz0z97FK5H4XqUPwAAAAAAADVAldYm6AsuEb6V1iboCy4Rvhsv3SQGgZU/AAAAAAAAAADRFHpDIkCPQJqZmZmZmZk/ldYm6AsuEb6V1iboCy4RvtGWdyQGgZU/ldYm6AsuEb6V1iboCy4RvpXWJugLLhG+VHO5wVCHtT+V1iboCy4RvpXWJugLLhG+ldYm6AsuEb6V1iboCy4Rvkw3iUFg5bA/AAAAAAAAJEAbL90kBoGlP5qZmZmZmck/AAAAAAAAAACV1iboCy4RvuF6FK5H4co/Gy/dJAaBlT86W0BoPXy7P5XWJugLLhG+ldYm6AsuEb6V1iboCy4RvpXWJugLLhG+x7I903sFuT8rhxbZzvezP5XWJugLLhG+Gy/dJAaBlT+amZmZmZnJPwAAAAAAADVAKEJI6PfNDEDRlnckBoGVP5XWJugLLhG+ldYm6AsuEb6V1iboCy4Rvhsv3SQGgbU/ldYm6AsuEb6V1iboCy4RvlK4HoXrUQBAGy/dJAaBlT/hehSuR+G6PwAAAAAAAPA/ldYm6AsuEb6V1iboCy4Rvhsv3SQGgbU/ldYm6AsuEb5eIuarRw7BPxsv3SQGgZU/J6CJsOHplT+Y3ZOHhVqTP5XWJugLLhG+0ZZ3JAaBlT97FK5H4XrEP65H4XoUjjBAPF6XzZutVUDRItv5fmrsPwAAAAAAABRAAAAAAAAA8D8bL90kBoG1P5XWJugLLhG+ldYm6AsuEb6amZmZmZm5P5XWJugLLhG+ldYm6AsuEb68nXC7P5q7P5XWJugLLhG+4XoUrkfh+j+cM6K0N/jKP5XWJugLLhG+ldYm6AsuEb4bL90kBoGVPxsv3SQGgZU/Gy/dJAaBlT8AAAAAAADwP5XWJugLLhG+ldYm6AsuEb6V1iboCy4RvuF6FK5H4do/ldYm6AsuEb6V1iboCy4RvpXWJugLLhG+ukkMAiuHlj+V1iboCy4Rvhsv3SQGgdU/mpmZmZmZuT+V1iboCy4RvgAAAAAAgEZA4XoUrkfhyj/Xo3A9Cg9nQNGWdyQGgZU/4XoUrkfhyj+V1iboCy4RvpXWJugLLhG+AAAAAAAAAAA=\",\"dtype\":\"float64\",\"order\":\"little\",\"shape\":[124]},\"TotalCoinsMined\":{\"__ndarray__\":\"Qc2syH9Baz8p6ccjzGtlP9u6pdjCpRhADmnxMwsZtT9zHiW2j70nP316BOgLLgFAUi4JJ9SZTD8VUGx45DS/PwAAAAAAAPA/bFpw49MOsz+6cDnBq0PoP7gVxglooSNAgZ63niUcyD+OaA65xEhvP7e0jMIvAQhAmpmZmZmZmT8AAAAAAADwP4XkCSnkKE9AsTeGQY/MsT9JyYetlIwXQL8d0dJPZ/Y/pK3s4ly4vD97wpUlJweGP0ImGTkLIyJAAAAAAAAA8D+amZmZmZm5PzKgPDGO15M/NkL9Nt0Vgj/RFHpDIkCPQAE8b1HQZ5Y/2wjB0BZxjz9NYhs48fPMPzF3zNaIPJM/m/rH7OZ90T8ss6xjPlWSP/VREi9rX/w/HjskjNEAoz/8BzxzTD7HP3rxCiBH9fE/wtuYbujvjkAAAAAAAADwPwRnbYtCe7A/MzMzMzMzsz/QYpGdeEOkPzi+RpZtl8c/SfWdX5Sgnz9YemtvJhshQClcj8L1KNw/hzE3ZDzjwD5RP3Li4I+5P5nuEpt1dEBAVHkfhgmK0j9lnujISAuxP00etKwBOrI/KoPkSUSLpD/fs3L/LzKyP4qhza1gJao/+TJjPlDCkz/rjEICtX3AP1KD5j/SAC1AtsPsi3r0B0Bd6tYh7TWTP98obQLwld8//tdMzQQUwT+teh6ilFE+QIRIHRbXb7E/BsTlW1e07D9LXPXcbRWAPyGh31xj+tk/Gy/dJAaBlT/OXFtUdvezP1VQknqWSOA/OWz0VmNVoT/l/RBdw3qoP7WH8NnkNK8/QrXnUItjjj9eIuarRw7BP04HV+XnK4c/QAQkBTrFiD+Hrmi9nvmEP7Y6YJ/MNnc/9ZPiQ44+kz99wh3QudvBP47P+x+vdzBAahsm6gp/VUCtymiGlrTjP5BppSy0hgVAEVxmss737z9stxJRqhOnP3w7U+tn470/Du+y1GNLYEA4LQOgUR+vP2xrEpAcu5c/30H4vz8rSED7/Qf98YO6PzhZIecogMI/igO1MuNJ4T+zX6RUknbAP7ymjhufZcw/BtacHzUzFECMLG5VvuSKP+QFHwblO5M/AeBdWBwthz+515MKdNftP4xYhJUcDbs/0AoM91+e2D+vXx86Bu9QP8+lWZPr+8w/AAAAAAAA8D8TyDa6lASSPw7MaK7vYpI/mZfnigNzkz9+v8Mbd9WyPxWAaFw0js8/ot69mT7EoT86OqaFkIDwP/4XfId2HUBA6GJ4ka4S+z+X1EZG9Q5nQBY59oPxPZM/Ko2Y2eexyT+e6zevg4XFP3q5PmKqT8Q/AAAAAAAA8D8=\",\"dtype\":\"float64\",\"order\":\"little\",\"shape\":[124]},\"color\":{\"__ndarray__\":\"AQAAAAAAAAABAAAAAAAAAAEAAAABAAAAAAAAAAEAAAABAAAAAAAAAAMAAAAAAAAAAAAAAAAAAAAAAAAAAAAAAAIAAAADAAAAAAAAAAUAAAAAAAAAAQAAAAAAAAAAAAAABQAAAAAAAAABAAAAAQAAAAQAAAABAAAAAAAAAAAAAAAAAAAAAQAAAAAAAAAAAAAAAAAAAAIAAAACAAAABAAAAAEAAAAAAAAABQAAAAAAAAAAAAAAAAAAAAEAAAABAAAAAAAAAAEAAAAAAAAAAwAAAAEAAAABAAAAAAAAAAUAAAAAAAAAAAAAAAAAAAAAAAAAAgAAAAAAAAABAAAAAQAAAAEAAAAAAAAAAQAAAAEAAAAAAAAAAAAAAAAAAAABAAAAAQAAAAEAAAAAAAAAAgAAAAAAAAAAAAAAAAAAAAEAAAABAAAAAAAAAAAAAAAAAAAAAwAAAAAAAAAAAAAAAQAAAAEAAAAAAAAAAAAAAAEAAAAAAAAAAAAAAAEAAAACAAAAAAAAAAAAAAAAAAAAAQAAAAEAAAAAAAAAAAAAAAEAAAAFAAAAAAAAAAEAAAABAAAAAQAAAAAAAAAAAAAAAQAAAAAAAAAAAAAAAAAAAAIAAAABAAAAAAAAAAAAAAAAAAAAAQAAAAUAAAACAAAAAgAAAA==\",\"dtype\":\"int32\",\"order\":\"little\",\"shape\":[124]}},\"selected\":{\"id\":\"1328\"},\"selection_policy\":{\"id\":\"1353\"}},\"id\":\"1327\",\"type\":\"ColumnDataSource\"},{\"attributes\":{},\"id\":\"1337\",\"type\":\"BasicTicker\"},{\"attributes\":{\"end\":1100.0184032909785,\"reset_end\":1100.0184032909785,\"reset_start\":-100.00167302754352,\"start\":-100.00167302754352,\"tags\":[[[\"TotalCoinSupply\",\"TotalCoinSupply\",null]]]},\"id\":\"1294\",\"type\":\"Range1d\"},{\"attributes\":{},\"id\":\"1343\",\"type\":\"BasicTickFormatter\"},{\"attributes\":{\"bar_line_color\":\"black\",\"color_mapper\":{\"id\":\"1326\"},\"label_standoff\":8,\"location\":[0,0],\"major_label_policy\":{\"id\":\"1346\"},\"major_tick_line_color\":\"black\",\"ticker\":{\"id\":\"1337\"}},\"id\":\"1338\",\"type\":\"ColorBar\"},{\"attributes\":{\"fill_alpha\":{\"value\":0.2},\"fill_color\":{\"field\":\"color\",\"transform\":{\"id\":\"1326\"}},\"line_alpha\":{\"value\":0.2},\"line_color\":{\"field\":\"color\",\"transform\":{\"id\":\"1326\"}},\"size\":{\"value\":5.477225575051661},\"x\":{\"field\":\"TotalCoinsMined\"},\"y\":{\"field\":\"TotalCoinSupply\"}},\"id\":\"1334\",\"type\":\"Scatter\"}],\"root_ids\":[\"1291\"]},\"title\":\"Bokeh Application\",\"version\":\"2.3.2\"}};\n",
       "    var render_items = [{\"docid\":\"de9246a0-4701-458c-825e-a65587c121a9\",\"root_ids\":[\"1291\"],\"roots\":{\"1291\":\"e01a6577-9323-4d35-9e54-993ed4f0b063\"}}];\n",
       "    root.Bokeh.embed.embed_items_notebook(docs_json, render_items);\n",
       "  }\n",
       "  if (root.Bokeh !== undefined && root.Bokeh.Panel !== undefined) {\n",
       "    embed_document(root);\n",
       "  } else {\n",
       "    var attempts = 0;\n",
       "    var timer = setInterval(function(root) {\n",
       "      if (root.Bokeh !== undefined && root.Bokeh.Panel !== undefined) {\n",
       "        clearInterval(timer);\n",
       "        embed_document(root);\n",
       "      } else if (document.readyState == \"complete\") {\n",
       "        attempts++;\n",
       "        if (attempts > 100) {\n",
       "          clearInterval(timer);\n",
       "          console.log(\"Bokeh: ERROR: Unable to run BokehJS code because BokehJS library is missing\");\n",
       "        }\n",
       "      }\n",
       "    }, 10, root)\n",
       "  }\n",
       "})(window);</script>"
      ]
     },
     "metadata": {
      "application/vnd.holoviews_exec.v0+json": {
       "id": "1291"
      }
     },
     "execution_count": 154
    }
   ],
   "metadata": {}
  }
 ],
 "metadata": {
  "file_extension": ".py",
  "kernelspec": {
   "display_name": "Python 3",
   "language": "python",
   "name": "python3"
  },
  "language_info": {
   "codemirror_mode": {
    "name": "ipython",
    "version": 3
   },
   "file_extension": ".py",
   "mimetype": "text/x-python",
   "name": "python",
   "nbconvert_exporter": "python",
   "pygments_lexer": "ipython3",
   "version": "3.7.3"
  },
  "mimetype": "text/x-python",
  "name": "python",
  "npconvert_exporter": "python",
  "pygments_lexer": "ipython3",
  "version": 3
 },
 "nbformat": 4,
 "nbformat_minor": 4
}